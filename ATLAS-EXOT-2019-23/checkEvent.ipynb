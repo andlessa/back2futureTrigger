{
 "cells": [
  {
   "cell_type": "code",
   "execution_count": 8,
   "metadata": {},
   "outputs": [],
   "source": [
    "import pyhepmc\n",
    "import getEfficiencies\n",
    "import numpy as np"
   ]
  },
  {
   "cell_type": "code",
   "execution_count": 2,
   "metadata": {},
   "outputs": [],
   "source": [
    "hepmcFile = './run_13/ddmH_500_244_1_pythia8_events.hepmc.gz'\n",
    "llp_pdgs = [4000023]\n",
    "invisible_pdgs = [12,14,16,4000022]\n",
    "f = pyhepmc.open(hepmcFile) # Open HEPMC file"
   ]
  },
  {
   "cell_type": "code",
   "execution_count": 3,
   "metadata": {},
   "outputs": [],
   "source": [
    "event = f.read()"
   ]
  },
  {
   "cell_type": "code",
   "execution_count": 4,
   "metadata": {},
   "outputs": [],
   "source": [
    "# Extract necessary data from event\n",
    "eventDict = getEfficiencies.getDataFrom(event,llps=llp_pdgs,invisibles=invisible_pdgs)"
   ]
  },
  {
   "cell_type": "code",
   "execution_count": 5,
   "metadata": {},
   "outputs": [
    {
     "name": "stdout",
     "output_type": "stream",
     "text": [
      "{713: {'visible': GenParticle(FourVector(-22, -82.1, 865, 878), pid=713, status=0), 'invisible': GenParticle(FourVector(66.9, 67.3, 730, 737), pid=713, status=0), 'parent': GenParticle(FourVector(44.9, -14.8, 1.6e+03, 1.61e+03), mass=244, pid=4000023, status=22)}, 714: {'visible': GenParticle(FourVector(-37.5, -89.9, 932, 945), pid=714, status=0), 'invisible': GenParticle(FourVector(-14.8, 89.3, 464, 473), pid=714, status=0), 'parent': GenParticle(FourVector(-52.3, -0.571, 1.4e+03, 1.42e+03), mass=244, pid=-4000023, status=22)}}\n",
      "False\n"
     ]
    }
   ],
   "source": [
    "print(eventDict)\n",
    "print(getEfficiencies.passHTmissCut(eventDict))"
   ]
  },
  {
   "cell_type": "code",
   "execution_count": 7,
   "metadata": {},
   "outputs": [
    {
     "name": "stdout",
     "output_type": "stream",
     "text": [
      "Vertex 1\n",
      "GenParticle(FourVector(44.9, -14.8, 1.6e+03, 1.61e+03), mass=244, pid=4000023, status=22)\n",
      "  -> GenParticle(FourVector(-22, -82.1, 865, 878), mass=125.005, pid=25, status=22)\n",
      "  -> GenParticle(FourVector(66.9, 67.3, 730, 737), mass=1, pid=4000022, status=1)\n",
      "\n",
      "Vertex 2\n",
      "GenParticle(FourVector(-52.3, -0.571, 1.4e+03, 1.42e+03), mass=244, pid=-4000023, status=22)\n",
      "  -> GenParticle(FourVector(-37.5, -89.9, 932, 945), mass=125.003, pid=25, status=22)\n",
      "  -> GenParticle(FourVector(-14.8, 89.3, 464, 473), mass=1, pid=-4000022, status=1)\n"
     ]
    }
   ],
   "source": [
    "v1 = event.vertices[list(eventDict.keys())[0]]\n",
    "v2 = event.vertices[list(eventDict.keys())[1]]\n",
    "print('Vertex 1')\n",
    "print(v1.particles_in[0])\n",
    "for d in v1.particles_out:\n",
    "    print('  ->',d)\n",
    "\n",
    "print('\\nVertex 2')\n",
    "print(v2.particles_in[0])\n",
    "for d in v2.particles_out:\n",
    "    print('  ->',d)    "
   ]
  },
  {
   "cell_type": "code",
   "execution_count": 9,
   "metadata": {},
   "outputs": [
    {
     "name": "stdout",
     "output_type": "stream",
     "text": [
      "182.40422924189215\n"
     ]
    }
   ],
   "source": [
    "HT = np.sqrt(22**2 + 82.1**2) + np.sqrt(37.5**2 + 89.9**2)\n",
    "print(HT)"
   ]
  },
  {
   "cell_type": "code",
   "execution_count": 10,
   "metadata": {},
   "outputs": [
    {
     "name": "stdout",
     "output_type": "stream",
     "text": [
      "165.0392983504232\n"
     ]
    }
   ],
   "source": [
    "HTmiss = np.sqrt((-14.8+66.9)**2 + (89.3+67.3)**2)\n",
    "print(HTmiss)"
   ]
  },
  {
   "cell_type": "code",
   "execution_count": 11,
   "metadata": {},
   "outputs": [
    {
     "name": "stdout",
     "output_type": "stream",
     "text": [
      "0.9047997353809119\n"
     ]
    }
   ],
   "source": [
    "print(HTmiss/HT)"
   ]
  },
  {
   "cell_type": "code",
   "execution_count": null,
   "metadata": {},
   "outputs": [],
   "source": []
  }
 ],
 "metadata": {
  "kernelspec": {
   "display_name": "Python 3",
   "language": "python",
   "name": "python3"
  },
  "language_info": {
   "codemirror_mode": {
    "name": "ipython",
    "version": 3
   },
   "file_extension": ".py",
   "mimetype": "text/x-python",
   "name": "python",
   "nbconvert_exporter": "python",
   "pygments_lexer": "ipython3",
   "version": "3.12.3"
  }
 },
 "nbformat": 4,
 "nbformat_minor": 2
}
