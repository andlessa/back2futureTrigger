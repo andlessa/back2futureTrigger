{
 "cells": [
  {
   "cell_type": "code",
   "execution_count": 1,
   "metadata": {},
   "outputs": [],
   "source": [
    "import pyhepmc\n",
    "import getEfficiencies\n",
    "import numpy as np"
   ]
  },
  {
   "cell_type": "code",
   "execution_count": 7,
   "metadata": {},
   "outputs": [],
   "source": [
    "# hepmcFile = './run_04/ddmH_500_244_44_pythia8_events.hepmc.gz'\n",
    "hepmcFile = './run_01/ddmH_500_244_154_pythia8_events.hepmc.gz'\n",
    "llp_pdgs = [4000023]\n",
    "invisible_pdgs = [12,14,16,4000022]\n",
    "f = pyhepmc.open(hepmcFile) # Open HEPMC file"
   ]
  },
  {
   "cell_type": "code",
   "execution_count": 8,
   "metadata": {},
   "outputs": [],
   "source": [
    "event = f.read()"
   ]
  },
  {
   "cell_type": "code",
   "execution_count": 9,
   "metadata": {},
   "outputs": [],
   "source": [
    "# Extract necessary data from event\n",
    "eventDict = getEfficiencies.getDataFrom(event,llps=llp_pdgs,invisibles=invisible_pdgs)"
   ]
  },
  {
   "cell_type": "code",
   "execution_count": 10,
   "metadata": {},
   "outputs": [
    {
     "name": "stdout",
     "output_type": "stream",
     "text": [
      "{1459: {'visible': GenParticle(FourVector(-19.3, 75.2, -6.53, 89.8), pid=1459, status=0), 'invisible': GenParticle(FourVector(-6.28, -23.8, 56.1, 166), pid=1459, status=0), 'parent': GenParticle(FourVector(-25.5, 51.5, 49.5, 256), mass=244, pid=4000023, status=22), 'visiblePDGs': [5, -5], 'invisiblePDGs': [4000022]}, 1460: {'visible': GenParticle(FourVector(-17.6, -4.1, 60.5, 96.8), pid=1460, status=0), 'invisible': GenParticle(FourVector(-68.8, -59, 10.9, 179), pid=1460, status=0), 'parent': GenParticle(FourVector(-86.4, -63.1, 71.4, 276), mass=244, pid=-4000023, status=22), 'visiblePDGs': [5, -5], 'invisiblePDGs': [-4000022]}}\n",
      "False\n"
     ]
    }
   ],
   "source": [
    "print(eventDict)\n",
    "print(getEfficiencies.passHTmissCut(eventDict))"
   ]
  },
  {
   "cell_type": "code",
   "execution_count": 11,
   "metadata": {},
   "outputs": [
    {
     "name": "stdout",
     "output_type": "stream",
     "text": [
      "Vertex 1\n",
      "GenParticle(FourVector(-25.5, 51.5, 49.5, 256), mass=244, pid=4000023, status=22)\n",
      "  -> GenParticle(FourVector(-8.87, 22.4, 18, 30.4), mass=4.7, pid=5, status=23)\n",
      "       -> GenParticle(FourVector(-7.56, 22, 15.8, 28.5), mass=4.7, pid=5, status=51)\n",
      "       -> GenParticle(FourVector(-1.43, 0.993, 1.89, 2.57), mass=0, pid=21, status=51)\n",
      "  -> GenParticle(FourVector(-10.4, 52.9, -24.5, 59.4), mass=4.7, pid=-5, status=23)\n",
      "       -> GenParticle(FourVector(-10.3, 52.3, -24.2, 58.7), mass=4.7, pid=-5, status=52)\n",
      "  -> GenParticle(FourVector(-6.28, -23.8, 56.1, 166), mass=154, pid=4000022, status=1)\n",
      "\n",
      "Vertex 2\n",
      "GenParticle(FourVector(-86.4, -63.1, 71.4, 276), mass=244, pid=-4000023, status=22)\n",
      "  -> GenParticle(FourVector(4.04, 22, -4.56, 23.3), mass=4.7, pid=5, status=23)\n",
      "       -> GenParticle(FourVector(1.32, 18.7, -6.92, 20.6), mass=4.7, pid=5, status=51)\n",
      "       -> GenParticle(FourVector(1.8, 2.12, 5.13, 5.84), mass=0, pid=21, status=51)\n",
      "  -> GenParticle(FourVector(-21.6, -26.1, 65.1, 73.5), mass=4.7, pid=-5, status=23)\n",
      "       -> GenParticle(FourVector(-20.7, -25, 62.3, 70.4), mass=4.7, pid=-5, status=52)\n",
      "  -> GenParticle(FourVector(-68.8, -59, 10.9, 179), mass=154, pid=-4000022, status=1)\n"
     ]
    }
   ],
   "source": [
    "v1 = event.vertices[list(eventDict.keys())[0]]\n",
    "v2 = event.vertices[list(eventDict.keys())[1]]\n",
    "print('Vertex 1')\n",
    "print(v1.particles_in[0])\n",
    "for d in v1.particles_out:\n",
    "    print('  ->',d)\n",
    "    for c in d.children:\n",
    "        print('       ->',c)\n",
    "\n",
    "print('\\nVertex 2')\n",
    "print(v2.particles_in[0])\n",
    "for d in v2.particles_out:\n",
    "    print('  ->',d)    \n",
    "    for c in d.children:\n",
    "        print('       ->',c)\n"
   ]
  },
  {
   "cell_type": "code",
   "execution_count": 7,
   "metadata": {},
   "outputs": [
    {
     "name": "stdout",
     "output_type": "stream",
     "text": [
      "182.40422924189215\n"
     ]
    }
   ],
   "source": [
    "HT = np.sqrt(22**2 + 82.1**2) + np.sqrt(37.5**2 + 89.9**2)\n",
    "print(HT)"
   ]
  },
  {
   "cell_type": "code",
   "execution_count": 8,
   "metadata": {},
   "outputs": [
    {
     "name": "stdout",
     "output_type": "stream",
     "text": [
      "165.0392983504232\n"
     ]
    }
   ],
   "source": [
    "HTmiss = np.sqrt((-14.8+66.9)**2 + (89.3+67.3)**2)\n",
    "print(HTmiss)"
   ]
  },
  {
   "cell_type": "code",
   "execution_count": 9,
   "metadata": {},
   "outputs": [
    {
     "name": "stdout",
     "output_type": "stream",
     "text": [
      "0.9047997353809119\n"
     ]
    }
   ],
   "source": [
    "print(HTmiss/HT)"
   ]
  },
  {
   "cell_type": "code",
   "execution_count": null,
   "metadata": {},
   "outputs": [],
   "source": []
  }
 ],
 "metadata": {
  "kernelspec": {
   "display_name": "Python 3",
   "language": "python",
   "name": "python3"
  },
  "language_info": {
   "codemirror_mode": {
    "name": "ipython",
    "version": 3
   },
   "file_extension": ".py",
   "mimetype": "text/x-python",
   "name": "python",
   "nbconvert_exporter": "python",
   "pygments_lexer": "ipython3",
   "version": "3.12.7"
  }
 },
 "nbformat": 4,
 "nbformat_minor": 2
}
