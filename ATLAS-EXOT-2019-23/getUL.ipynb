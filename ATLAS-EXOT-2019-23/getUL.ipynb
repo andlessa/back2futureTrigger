{
 "cells": [
  {
   "cell_type": "code",
   "execution_count": 3,
   "metadata": {},
   "outputs": [],
   "source": [
    "import sys\n",
    "sys.path.append('../')\n",
    "from statisticalTools.simplifiedLikelihoods import Data,UpperLimitComputer\n",
    "from statisticalTools.statistics_toys import upperLimit"
   ]
  },
  {
   "cell_type": "code",
   "execution_count": null,
   "metadata": {},
   "outputs": [
    {
     "name": "stdout",
     "output_type": "stream",
     "text": [
      "12.450381679389313\n"
     ]
    }
   ],
   "source": [
    "NA = 22.0\n",
    "NB = 7.0\n",
    "NC = 233.0\n",
    "ND = 131.\n",
    "observedN = NA\n",
    "expectedBG = NB*(NC/ND)\n",
    "bgError = 4.7\n",
    "lumi = 139.0\n",
    "alpha = .05"
   ]
  },
  {
   "cell_type": "markdown",
   "metadata": {},
   "source": [
    "### Using q_mu test statistic from the CCGV paper"
   ]
  },
  {
   "cell_type": "code",
   "execution_count": 5,
   "metadata": {},
   "outputs": [
    {
     "name": "stdout",
     "output_type": "stream",
     "text": [
      "2.444746841067114 3.880961071025713\n"
     ]
    }
   ],
   "source": [
    "\n",
    "comp = UpperLimitComputer ( 1. - alpha )\n",
    "\n",
    "m = Data(observedN, expectedBG, bgError**2, third_moment=None, nsignal=1.0,deltas_rel=0.2)\n",
    "ul = comp.getUpperLimitOnMu(m)\n",
    "ulExpected = comp.getUpperLimitOnMu(m, expected=\"posteriori\")\n",
    "print(ul,ulExpected)\n"
   ]
  },
  {
   "cell_type": "markdown",
   "metadata": {},
   "source": [
    "### Using toys"
   ]
  },
  {
   "cell_type": "code",
   "execution_count": null,
   "metadata": {},
   "outputs": [
    {
     "name": "stdout",
     "output_type": "stream",
     "text": [
      "3.0360320826285916 4.11597316096433\n"
     ]
    }
   ],
   "source": [
    "ul_toys = upperLimit(observedN,expectedBG,bgError,lumi,alpha,toys=10000)\n",
    "ul_toys_exp = upperLimit(expectedBG,expectedBG,bgError,lumi,alpha,toys=10000)\n",
    "print(ul_toys*lumi,ul_toys_exp*lumi)\n"
   ]
  },
  {
   "cell_type": "code",
   "execution_count": null,
   "metadata": {},
   "outputs": [],
   "source": []
  }
 ],
 "metadata": {
  "kernelspec": {
   "display_name": "Python 3",
   "language": "python",
   "name": "python3"
  },
  "language_info": {
   "codemirror_mode": {
    "name": "ipython",
    "version": 3
   },
   "file_extension": ".py",
   "mimetype": "text/x-python",
   "name": "python",
   "nbconvert_exporter": "python",
   "pygments_lexer": "ipython3",
   "version": "3.12.3"
  }
 },
 "nbformat": 4,
 "nbformat_minor": 2
}
