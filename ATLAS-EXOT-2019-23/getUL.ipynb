{
 "cells": [
  {
   "cell_type": "code",
   "execution_count": 2,
   "metadata": {},
   "outputs": [],
   "source": [
    "from abcd_pyhf import ABCD\n"
   ]
  },
  {
   "cell_type": "code",
   "execution_count": null,
   "metadata": {},
   "outputs": [],
   "source": [
    "# Numbers from Table 4 in 2203.01009\n",
    "NA = 22\n",
    "NB = 7\n",
    "NC = 233\n",
    "ND = 131\n",
    "abcd = ABCD({'A':NA, 'B': NB, 'C':NC , 'D':ND}, \n",
    "            {'A':1, 'B':0, 'C':0, 'D':0},  # signal fractions (signal only populates A)\n",
    "            0.3 # signal error \n",
    "            ) \n",
    "ul_nEvents =abcd.upper_limit()\n",
    "print(\"High-ET:\")\n",
    "print(f\"Ns UL(obs) = {ul_nEvents[0]:1.3f}, Ns UL(exp) = {ul_nEvents[1][2]:1.3f}\")"
   ]
  },
  {
   "cell_type": "code",
   "execution_count": null,
   "metadata": {},
   "outputs": [
    {
     "name": "stderr",
     "output_type": "stream",
     "text": [
      "/home/lessa/.local/lib/python3.12/site-packages/scipy/optimize/_slsqp_py.py:437: RuntimeWarning: Values in x were outside bounds during a minimize step, clipping to bounds\n",
      "  fx = wrapped_fun(x)\n",
      "/home/lessa/.local/lib/python3.12/site-packages/scipy/optimize/_slsqp_py.py:437: RuntimeWarning: Values in x were outside bounds during a minimize step, clipping to bounds\n",
      "  fx = wrapped_fun(x)\n",
      "/home/lessa/.local/lib/python3.12/site-packages/scipy/optimize/_slsqp_py.py:437: RuntimeWarning: Values in x were outside bounds during a minimize step, clipping to bounds\n",
      "  fx = wrapped_fun(x)\n",
      "/home/lessa/.local/lib/python3.12/site-packages/scipy/optimize/_slsqp_py.py:437: RuntimeWarning: Values in x were outside bounds during a minimize step, clipping to bounds\n",
      "  fx = wrapped_fun(x)\n",
      "/home/lessa/.local/lib/python3.12/site-packages/scipy/optimize/_slsqp_py.py:437: RuntimeWarning: Values in x were outside bounds during a minimize step, clipping to bounds\n",
      "  fx = wrapped_fun(x)\n"
     ]
    },
    {
     "name": "stdout",
     "output_type": "stream",
     "text": [
      "Low-ET:\n",
      "Ns UL(obs) = 32.985, Ns UL(exp) = 21.510\n"
     ]
    }
   ],
   "source": [
    "NA = 23\n",
    "NB = 3\n",
    "NC = 220\n",
    "ND = 61\n",
    "abcd = ABCD({'A':NA, 'B': NB, 'C':NC , 'D':ND}, \n",
    "            {'A':1, 'B':0, 'C':0, 'D':0},  # signal fractions (signal only populates A)\n",
    "            0.30 # signal error \n",
    "            ) \n",
    "ul_nEvents =abcd.upper_limit()\n",
    "print(\"Low-ET:\")\n",
    "print(f\"Ns UL(obs) = {ul_nEvents[0]:1.3f}, Ns UL(exp) = {ul_nEvents[1][2]:1.3f}\")"
   ]
  }
 ],
 "metadata": {
  "kernelspec": {
   "display_name": "Python 3",
   "language": "python",
   "name": "python3"
  },
  "language_info": {
   "codemirror_mode": {
    "name": "ipython",
    "version": 3
   },
   "file_extension": ".py",
   "mimetype": "text/x-python",
   "name": "python",
   "nbconvert_exporter": "python",
   "pygments_lexer": "ipython3",
   "version": "3.12.3"
  }
 },
 "nbformat": 4,
 "nbformat_minor": 2
}
