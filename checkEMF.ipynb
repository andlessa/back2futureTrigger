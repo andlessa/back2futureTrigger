{
 "cells": [
  {
   "cell_type": "code",
   "execution_count": 86,
   "metadata": {},
   "outputs": [],
   "source": [
    "from matplotlib import pyplot as plt\n",
    "import numpy as np\n",
    "import pandas as pd\n",
    "import os\n",
    "import logging\n",
    "from helper import getModelDict\n",
    "delphesDir = os.path.abspath(\"./DelphesLLP\")\n",
    "os.environ['ROOT_INCLUDE_PATH'] = os.path.join(delphesDir,\"external\")\n",
    "\n",
    "import ROOT\n",
    "\n",
    "\n",
    "ROOT.gSystem.Load(os.path.join(delphesDir,\"libDelphes.so\"))\n",
    "\n",
    "ROOT.gInterpreter.Declare('#include \"classes/SortableObject.h\"')\n",
    "ROOT.gInterpreter.Declare('#include \"classes/DelphesClasses.h\"')\n",
    "ROOT.gInterpreter.Declare('#include \"external/ExRootAnalysis/ExRootTreeReader.h\"')\n",
    "\n",
    "c = 3e8\n",
    "\n",
    "FORMAT = '%(levelname)s: %(message)s at %(asctime)s'\n",
    "logging.basicConfig(format=FORMAT,datefmt='%m/%d/%Y %I:%M:%S %p')\n",
    "logger = logging.getLogger()"
   ]
  },
  {
   "cell_type": "code",
   "execution_count": 87,
   "metadata": {},
   "outputs": [],
   "source": [
    "defaultPars = {'figure.figsize': (5, 4),\n",
    "               'lines.markersize' : 4,\n",
    "               'axes.titlesize' : 13,\n",
    "               'font.size' : 13,\n",
    "               'axes.labelsize' : 16,\n",
    "               'xtick.labelsize' : 13,\n",
    "               'ytick.labelsize' : 13,\n",
    "               'legend.fontsize' : 10,\n",
    "               \"text.usetex\": True,\n",
    "               \"font.family\": \"sans-serif\",\n",
    "               \"font.sans-serif\": [\"Helvetica\"],\n",
    "               'font.family':'Times New Roman', \n",
    "               'font.serif':'Times New Roman',\n",
    "               \"savefig.dpi\" : 300,\n",
    "               'contour.linewidth' : 2.0,\n",
    "               'lines.linewidth' : 2.0,\n",
    "               'axes.grid' : True,\n",
    "               'grid.linewidth' : 0.5,\n",
    "               'grid.color' : 'lightgray',\n",
    "               'axes.axisbelow' : True\n",
    "               }\n",
    "plt.rcParams.update(defaultPars)"
   ]
  },
  {
   "cell_type": "markdown",
   "metadata": {},
   "source": [
    "### Files to be compared"
   ]
  },
  {
   "cell_type": "code",
   "execution_count": 88,
   "metadata": {},
   "outputs": [],
   "source": [
    "filesDict = {\n",
    "                r'Signal' : './pp2chi0chi0J_scan/Events/run_01/ddmH_mS_500_m1_244_dm_90_delphes_events_full.root',\n",
    "                # r'Signal (no smearing)' : './pp2chi0chi0J_scan/Events/run_01/ddmH_mS_500_m1_244_dm_90_delphes_events_nosmear.root',\n",
    "}\n",
    "\n",
    "modelDict = {}\n",
    "for key,f in list(filesDict.items()):\n",
    "    if not os.path.isfile(f):\n",
    "        print(f'File {f} not found. Skipping.')\n",
    "        filesDict.pop(key)\n",
    "    else:\n",
    "        modelDict[key] = getModelDict(f,verbose=False)\n",
    "\n",
    "if len(set([tuple(d.items()) for d in modelDict.values()])) > 1:\n",
    "    print('Several models being used!')\n",
    "    mDict = None\n",
    "else:\n",
    "    mDict = list(modelDict.values())[0]\n"
   ]
  },
  {
   "cell_type": "markdown",
   "metadata": {},
   "source": [
    "### Get kinematical variables for each file"
   ]
  },
  {
   "cell_type": "code",
   "execution_count": 89,
   "metadata": {},
   "outputs": [],
   "source": [
    "L1metStr = r'$E_T^{\\rm miss}$ (Hardware Trigger, N-1) (GeV)'\n",
    "L1njStr = r'$n_{j}$ (Hardware Trigger, N)'\n",
    "L1pTj1Str = r'Leading jet $E_{T}$ (Hardware Trigger, N) (GeV)'\n",
    "L1dPhi = r'$\\Delta \\phi^{min} (MET,j)$ (Hardware Trigger)'\n",
    "L1metPartonStr = r'$E_T^{\\rm miss}$ (Parton Level, N-1) (GeV)'\n",
    "\n",
    "HLTpTj1Str = r'Leading jet $E_{T}$ (Off-line, N) (GeV)'\n",
    "HLTnjStr = r'$n_{j}$ (Off-line, N)'\n",
    "HLTemfStr = r'EMF$_{\\rm min}$ (Off-line, N)'\n",
    "\n",
    "\n",
    "cols = ['label',L1metStr,L1njStr,L1pTj1Str,L1dPhi,L1metPartonStr,HLTnjStr,HLTpTj1Str,HLTemfStr]\n",
    "\n",
    "\n",
    "dataList = []\n",
    "for label,file in filesDict.items():   \n",
    "    f = ROOT.TFile(file,'read')\n",
    "    tree = f.Get(\"Delphes\")\n",
    "    nevts = tree.GetEntries()\n",
    "    for ievt in range(nevts):\n",
    "        tree.GetEntry(ievt)\n",
    "\n",
    "        # Get parton level MET\n",
    "        llps = list(tree.llpParticles)\n",
    "        invisibles = [p for p in tree.llpDirectDaughters \n",
    "                      if abs(p.PID) == 4000022]\n",
    "        invisibles = sorted(invisibles, key = lambda p: p.M1)\n",
    "        pInvTot = np.zeros(3)\n",
    "        for illp,llp in enumerate(llps):\n",
    "            daughter = invisibles[illp]\n",
    "            decayTime = daughter.T\n",
    "            if decayTime < 10e-9: # if LLP decays on-time, add its daughter momentum\n",
    "                pInv = np.array([daughter.Px,daughter.Py,\n",
    "                                 daughter.Pz])\n",
    "            else: # add the LLP momentum\n",
    "                pInv = np.array([llp.Px,llp.Py,\n",
    "                                llp.Pz])\n",
    "            pInvTot += pInv\n",
    "        \n",
    "        metParton = np.linalg.norm(pInvTot[:2])\n",
    "                \n",
    "        metOnTime = tree.L1METOnTime.At(0)\n",
    "        jetsDelayed = list(tree.L1JetDelayed)\n",
    "        jetsDelayed = sorted(jetsDelayed, \n",
    "                         key = lambda j: j.PT, reverse=True)\n",
    "\n",
    "        met = metOnTime.MET\n",
    "        nj = len(jetsDelayed)\n",
    "        if nj > 0:\n",
    "            pTj1 = jetsDelayed[0].PT\n",
    "            dphi_min = 10000.0\n",
    "            for j in jetsDelayed[:6]:\n",
    "                dphi = np.abs(j.Phi-metOnTime.Phi)\n",
    "                if dphi > np.pi:\n",
    "                    dphi = 2*np.pi-dphi\n",
    "                dphi_min = min(dphi,dphi_min)\n",
    "        else:\n",
    "            pTj1 = 0.0\n",
    "            dphi_min = 5.0\n",
    "\n",
    "\n",
    "        jetsDelayedHLT = list(tree.HLTJetDelayed)\n",
    "        jets = [j for j in jetsDelayedHLT[:] if abs(j.Eta) < 2.5]\n",
    "        jets = [j for j in jets[:] if j.PT > 20.0]\n",
    "        jets = sorted(jets, key = lambda j: j.PT, reverse=True)\n",
    "        njHLT = len(jets)     \n",
    "        pTHLT = 0.0\n",
    "        emf_min = -1.0   \n",
    "        if njHLT > 0:\n",
    "            pTHLT = jets[0].PT\n",
    "            jet_cells = []        \n",
    "            for j in jets:\n",
    "                closest_cell = None\n",
    "                dRmin = 100.0\n",
    "                for tower_cell in tree.HLTTowerDelayed:\n",
    "                    dphi = np.abs(j.Phi-tower_cell.Phi)\n",
    "                    deta = j.Eta-tower_cell.Eta\n",
    "                    if dphi > np.pi:\n",
    "                        dphi = 2*np.pi - dphi\n",
    "                    dR = np.sqrt(deta**2 + dphi**2)\n",
    "                    if dR < dRmin:\n",
    "                        dRmin = dR\n",
    "                        closest_cell = tower_cell\n",
    "                \n",
    "                jet_cells.append(closest_cell)\n",
    "            # Compute minimum EMF:\n",
    "            emf_min = min([cell.Eem/(cell.Eem + cell.Ehad) for cell in jet_cells])        \n",
    "\n",
    "\n",
    "        dataList.append([label,met,nj,pTj1,dphi_min,metParton,njHLT,pTHLT,emf_min])\n",
    "    f.Close()\n",
    "df = pd.DataFrame(columns=cols,data=dataList)\n",
    "        "
   ]
  },
  {
   "cell_type": "markdown",
   "metadata": {},
   "source": [
    "### Select Event"
   ]
  },
  {
   "cell_type": "code",
   "execution_count": 90,
   "metadata": {},
   "outputs": [
    {
     "data": {
      "text/plain": [
       "(0.0, -1.0)"
      ]
     },
     "execution_count": 90,
     "metadata": {},
     "output_type": "execute_result"
    }
   ],
   "source": [
    "df[HLTemfStr].max(),df[HLTemfStr].min()"
   ]
  },
  {
   "cell_type": "markdown",
   "metadata": {},
   "source": [
    "### Get decay length of delayed LLP"
   ]
  },
  {
   "cell_type": "code",
   "execution_count": 91,
   "metadata": {},
   "outputs": [],
   "source": [
    "zdec = []\n",
    "rhodec = []\n",
    "tdec = []\n",
    "ievList = []\n",
    "f = ROOT.TFile(file,'read')\n",
    "tree = f.Get(\"Delphes\")\n",
    "for ievt in range(nevts):    \n",
    "    tree.GetEntry(ievt)\n",
    "    if len(tree.HLTJetDelayed) == 0:\n",
    "        continue\n",
    "    # Get parton level MET\n",
    "    llps = list(tree.llpParticles)\n",
    "    invisibles = [p for p in tree.llpDirectDaughters \n",
    "                    if abs(p.PID) == 4000022]\n",
    "    visibles =  [p for p in tree.llpDirectDaughters \n",
    "                    if abs(p.PID) != 4000022]\n",
    "    invisibles = sorted(invisibles, key = lambda p: p.M1)\n",
    "    for illp,llp in enumerate(llps):\n",
    "        pLLP = np.array([llp.Px,llp.Py,\n",
    "                            llp.Pz,llp.E])        \n",
    "        daughter = invisibles[illp]\n",
    "        decayTime = daughter.T\n",
    "        decayPosition = np.array([daughter.X,daughter.Y,daughter.Z])\n",
    "        if decayTime < 20e-9 or decayTime > 30e-9:\n",
    "            continue\n",
    "        tdec.append(decayTime)\n",
    "        zdec.append(np.abs(decayPosition[2]))\n",
    "        rhodec.append(np.linalg.norm(decayPosition[:2]))\n",
    "        ievList.append(ievt)\n",
    "f.Close()"
   ]
  },
  {
   "cell_type": "code",
   "execution_count": 92,
   "metadata": {},
   "outputs": [
    {
     "data": {
      "image/png": "[encoded data removed]",
      "text/plain": [
       "<Figure size 500x400 with 1 Axes>"
      ]
     },
     "metadata": {},
     "output_type": "display_data"
    }
   ],
   "source": [
    "plt.scatter(zdec,rhodec)\n",
    "plt.hlines(y=[1.4*1e3,2.0*1e3],xmin=0,xmax=4.3*1e3,colors='red')\n",
    "plt.vlines(x=[3.7*1e3,4.3*1e3],ymin=0,ymax=2.0*1e3,colors='red')\n",
    "# plt.vlines(x=2.0,ymin=3.7,ymax=4.3)\n",
    "plt.ylabel(r'$\\rho_{dec}$ (mm)')\n",
    "plt.xlabel(r'$z_{dec}$ (mm)')\n",
    "plt.show()"
   ]
  },
  {
   "cell_type": "markdown",
   "metadata": {},
   "source": [
    "### Filter event"
   ]
  },
  {
   "cell_type": "code",
   "execution_count": 93,
   "metadata": {},
   "outputs": [
    {
     "name": "stdout",
     "output_type": "stream",
     "text": [
      "24.040479829068317 3.481759765625 1.6588588760125584 1469\n",
      "23.326329312567395 2.579785400390625 1.3222477913665367 3069\n"
     ]
    }
   ],
   "source": [
    "for z,rho,t,ievt in zip(zdec,rhodec,tdec,ievList):\n",
    "    if z/1e3 > 4.3: continue\n",
    "    if rho/1e3 > 2.0: continue\n",
    "    if (z/1e3 < 1.4) and (rho/1e3 < 1.4):\n",
    "        continue\n",
    "    print(t*1e9,z/1e3,rho/1e3,ievt)\n",
    "    "
   ]
  },
  {
   "cell_type": "markdown",
   "metadata": {},
   "source": [
    "### Check event"
   ]
  },
  {
   "cell_type": "code",
   "execution_count": null,
   "metadata": {},
   "outputs": [
    {
     "name": "stdout",
     "output_type": "stream",
     "text": [
      "PID = 4000023, t_decay (ns) = 36.74, z_decay (m) = 2.45, rho_dec (m) = 1.85\n",
      "PID = -4000023, t_decay (ns) = 24.04, z_decay (m) = 3.48, rho_dec (m) = 1.66\n",
      "1 final towers\n",
      "E = 85.81, t(s) = 3.71e-08, t(readout)(s) = 2.64e-08, had = 85.81, em = 0.00\n",
      "-211  t (ns) =36.74, |z| (m) = 2.45, rho (m) = 1.85\n",
      "2212  t (ns) =36.74, |z| (m) = 2.45, rho (m) = 1.85\n",
      "-2212  t (ns) =36.74, |z| (m) = 2.45, rho (m) = 1.85\n",
      "321  t (ns) =36.74, |z| (m) = 2.45, rho (m) = 1.85\n",
      "-11  t (ns) =36.74, |z| (m) = 2.45, rho (m) = 1.85\n",
      "211  t (ns) =36.79, |z| (m) = 2.47, rho (m) = 1.86\n",
      "22  t (ns) =36.74, |z| (m) = 2.45, rho (m) = 1.85\n",
      "2212  t (ns) =37.61, |z| (m) = 2.64, rho (m) = 1.99\n",
      "-2212  t (ns) =37.21, |z| (m) = 2.55, rho (m) = 1.93\n",
      "-211  t (ns) =36.74, |z| (m) = 2.45, rho (m) = 1.85\n",
      "11  t (ns) =36.82, |z| (m) = 2.47, rho (m) = 1.87\n",
      "22  t (ns) =36.79, |z| (m) = 2.47, rho (m) = 1.86\n",
      "22  t (ns) =36.79, |z| (m) = 2.47, rho (m) = 1.86\n",
      "22  t (ns) =37.61, |z| (m) = 2.64, rho (m) = 1.99\n",
      "22  t (ns) =37.61, |z| (m) = 2.64, rho (m) = 1.99\n",
      "22  t (ns) =37.21, |z| (m) = 2.55, rho (m) = 1.93\n",
      "22  t (ns) =37.21, |z| (m) = 2.55, rho (m) = 1.93\n",
      "130  t (ns) =36.74, |z| (m) = 2.45, rho (m) = 1.85\n",
      "321  t (ns) =36.82, |z| (m) = 2.47, rho (m) = 1.87\n",
      "-211  t (ns) =36.82, |z| (m) = 2.47, rho (m) = 1.87\n",
      "321  t (ns) =36.74, |z| (m) = 2.45, rho (m) = 1.85\n",
      "-211  t (ns) =36.74, |z| (m) = 2.45, rho (m) = 1.85\n",
      "22  t (ns) =36.74, |z| (m) = 2.45, rho (m) = 1.85\n",
      "22  t (ns) =36.74, |z| (m) = 2.45, rho (m) = 1.85\n",
      "22  t (ns) =36.74, |z| (m) = 2.45, rho (m) = 1.85\n",
      "22  t (ns) =36.74, |z| (m) = 2.45, rho (m) = 1.85\n",
      "211  t (ns) =37.68, |z| (m) = 2.21, rho (m) = 1.81\n",
      "-211  t (ns) =37.68, |z| (m) = 2.21, rho (m) = 1.81\n",
      " E = 79.94\n",
      "0 ECAL towers\n",
      "1 HCAL towers\n"
     ]
    }
   ],
   "source": [
    "f = ROOT.TFile(file,'read')\n",
    "tree = f.Get(\"Delphes\")\n",
    "tree.GetEntry(1469)\n",
    "\n",
    "\n",
    "# Get parton level MET\n",
    "llps = list(tree.llpParticles)\n",
    "invisibles = [p for p in tree.llpDirectDaughters \n",
    "                if abs(p.PID) == 4000022]\n",
    "visibles =  [p for p in tree.llpDirectDaughters \n",
    "                if abs(p.PID) != 4000022]\n",
    "invisibles = sorted(invisibles, key = lambda p: p.M1)\n",
    "pInvTot = np.zeros(4)\n",
    "pISR = np.zeros(4)\n",
    "for illp,llp in enumerate(llps):\n",
    "    pLLP = np.array([llp.Px,llp.Py,\n",
    "                        llp.Pz,llp.E])\n",
    "    pISR -= pLLP\n",
    "    daughter = invisibles[illp]\n",
    "    decayTime = daughter.T\n",
    "    decayPosition = np.array([daughter.X,daughter.Y,daughter.Z])\n",
    "    print(f'PID = {llp.PID}, t_decay (ns) = {decayTime*1e9:1.2f}, z_decay (m) = {decayPosition[2]/1e3:1.2f}, rho_dec (m) = {np.linalg.norm(decayPosition[:2])/1e3:1.2f}')\n",
    "    if decayTime < 10e-9: # if LLP decays on-time, add its daughter momentum\n",
    "        pInv = np.array([daughter.Px,daughter.Py,\n",
    "                            daughter.Pz,daughter.E])\n",
    "    else: # add the LLP momentum\n",
    "        pInv = pLLP\n",
    "    # print(f'  pLLP = {pLLP}')\n",
    "    # print(f'  pInv = {pInv}')\n",
    "    pInvTot += pInv\n",
    "pISR[3] = np.linalg.norm(pISR[:3])\n",
    "metParton = np.linalg.norm(pInvTot[:2])\n",
    "c_light = 2.99792458e8\n",
    "print(f'{len(tree.HLTTowerDelayed)} final towers')\n",
    "for tower in tree.HLTTowerDelayed:\n",
    "    t = tower.T\n",
    "    r = np.array([tower.X,tower.Y,tower.Z])\n",
    "    eta = tower.Eta\n",
    "    phi = tower.Phi\n",
    "    t_readout = t- np.linalg.norm(r)/c_light\n",
    "    print(f'E = {tower.E:1.2f}, t(s) = {t:1.2e}, t(readout)(s) = {t_readout:1.2e}, had = {tower.Ehad:1.2f}, em = {tower.Eem:1.2f}')\n",
    "    etot = 0.0\n",
    "    for p in tower.Particles:\n",
    "        etot += p.E\n",
    "        position = np.array([p.X,p.Y,p.Z])\n",
    "        zdec.append(np.abs(decayPosition[2]))\n",
    "        rhodec.append(np.linalg.norm(decayPosition[:2]))\n",
    "        print(f'PID= {p.PID}, E = {p.E:1.2f}, t (ns) ={p.T*1e9:1.2f}, |z| (m) = {position[2]/1e3:1.2f}, rho (m) = {np.linalg.norm(position[:2])/1e3:1.2f}')\n",
    "    print(f' E = {etot:1.2f}')\n",
    "\n",
    "\n",
    "print(f'{len(tree.ETowerDelayed)} ECAL towers')\n",
    "print(f'{len(tree.HTowerDelayed)} HCAL towers')\n",
    "# for tower in tree.HLTTowerDelayed:\n",
    "#     t = tower.T\n",
    "#     r = np.array([tower.X,tower.Y,tower.Z])\n",
    "#     eta = tower.Eta\n",
    "#     phi = tower.Phi\n",
    "#     t_readout = t- np.linalg.norm(r)/c_light\n",
    "#     print(f'E = {tower.E:1.2f}, t(s) = {t:1.2e}, t(readout)(s) = {t_readout:1.2e}, had = {tower.Ehad:1.2f}, em = {tower.Eem:1.2f}')\n",
    "#     for p in tower.Particles:\n",
    "#         position = np.array([p.X,p.Y,p.Z])\n",
    "#         zdec.append(np.abs(decayPosition[2]))\n",
    "#         rhodec.append(np.linalg.norm(decayPosition[:2]))\n",
    "#         print(p.PID,f' t (ns) ={p.T*1e9:1.2f}, |z| (m) = {position[2]/1e3:1.2f}, rho (m) = {np.linalg.norm(position[:2])/1e3:1.2f}')\n",
    "\n",
    "\n",
    "f.Close()"
   ]
  },
  {
   "cell_type": "code",
   "execution_count": 95,
   "metadata": {},
   "outputs": [],
   "source": [
    "#   set Radius 1.4\n",
    "#   set RadiusMax 2.0\n",
    "#   set HalfLength 3.7\n",
    "#   set HalfLengthMax 4.3\n",
    "  "
   ]
  }
 ],
 "metadata": {
  "kernelspec": {
   "display_name": "Python 3",
   "language": "python",
   "name": "python3"
  },
  "language_info": {
   "codemirror_mode": {
    "name": "ipython",
    "version": 3
   },
   "file_extension": ".py",
   "mimetype": "text/x-python",
   "name": "python",
   "nbconvert_exporter": "python",
   "pygments_lexer": "ipython3",
   "version": "3.12.7"
  }
 },
 "nbformat": 4,
 "nbformat_minor": 2
}
