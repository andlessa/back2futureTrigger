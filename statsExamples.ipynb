{
 "cells": [
  {
   "cell_type": "code",
   "execution_count": 1,
   "id": "c2903399-335a-4453-b521-5d8ffde17ac8",
   "metadata": {},
   "outputs": [],
   "source": [
    "import pyhf\n",
    "import numpy as np"
   ]
  },
  {
   "cell_type": "code",
   "execution_count": 2,
   "id": "99cc2872-d9a3-4c72-81b6-bbc0d6b90809",
   "metadata": {},
   "outputs": [
    {
     "name": "stdout",
     "output_type": "stream",
     "text": [
      "1.3493311367875171 1.414213562373095\n"
     ]
    }
   ],
   "source": [
    "ns = 20.0\n",
    "nb = 100.0\n",
    "bgError = 10.0\n",
    "model = pyhf.simplemodels.uncorrelated_background([ns], [nb], [bgError])\n",
    "nobs = nb+ns\n",
    "q0 = pyhf.infer.test_statistics.q0(\n",
    "     0.0,\n",
    "     [nobs] + model.config.auxdata,\n",
    "     model,\n",
    "     model.config.suggested_init(),\n",
    "     model.config.suggested_bounds(),\n",
    "     model.config.suggested_fixed(),\n",
    ")\n",
    "print(np.sqrt(q0),(nobs-nb)/np.sqrt(nb+bgError**2))"
   ]
  },
  {
   "cell_type": "code",
   "execution_count": 3,
   "id": "07a7943b-cf12-4367-9e43-0508ee40dadd",
   "metadata": {},
   "outputs": [
    {
     "name": "stdout",
     "output_type": "stream",
     "text": [
      "1.7721666809471721 2.116036847575795\n"
     ]
    }
   ],
   "source": [
    "ns = 3.0\n",
    "nb = 2.0\n",
    "bgError = 0.1\n",
    "model = pyhf.simplemodels.uncorrelated_background([ns], [nb], [bgError])\n",
    "nobs = nb+ns\n",
    "q0 = pyhf.infer.test_statistics.q0(\n",
    "     0.0,\n",
    "     [nobs] + model.config.auxdata,\n",
    "     model,\n",
    "     model.config.suggested_init(),\n",
    "     model.config.suggested_bounds(),\n",
    "     model.config.suggested_fixed(),\n",
    ")\n",
    "print(np.sqrt(q0),(nobs-nb)/np.sqrt(nb+bgError**2))"
   ]
  },
  {
   "cell_type": "code",
   "execution_count": 4,
   "id": "25ad4d52-b1f2-46a3-b90f-9e0a964cbee9",
   "metadata": {},
   "outputs": [
    {
     "name": "stdout",
     "output_type": "stream",
     "text": [
      "0.03818344635550577 0.5 0.07636689271101153\n"
     ]
    }
   ],
   "source": [
    "data = [nobs] + model.config.auxdata\n",
    "asymptotic_calculator = pyhf.infer.calculators.AsymptoticCalculator(data, model, test_stat=\"q0\")\n",
    "mu_test = 0.0\n",
    "q_tilde = asymptotic_calculator.teststatistic(mu_test)\n",
    "sig_plus_bkg_dist, bkg_dist = asymptotic_calculator.distributions(mu_test)\n",
    "CLsb, CLb, CLs = asymptotic_calculator.pvalues(q_tilde, sig_plus_bkg_dist, bkg_dist)\n",
    "print(CLsb, CLb, CLs)"
   ]
  },
  {
   "cell_type": "code",
   "execution_count": 5,
   "id": "691e6431-34e2-4292-8c4f-1453175cb87e",
   "metadata": {},
   "outputs": [
    {
     "name": "stdout",
     "output_type": "stream",
     "text": [
      "22.88375409498845 16.787994282456737\n"
     ]
    }
   ],
   "source": [
    "pyhf.set_backend(\"numpy\")\n",
    "NA = 22\n",
    "NB = 7\n",
    "NC = 233\n",
    "ND = 131\n",
    "ns = 27.444\n",
    "nb = (NC/ND)*NB\n",
    "nobs = NA\n",
    "bgError = 6.0\n",
    "\n",
    "model = pyhf.simplemodels.uncorrelated_background(\n",
    "    signal=[ns], bkg=[nb], bkg_uncertainty=[bgError]\n",
    ")\n",
    "observations = [nobs]\n",
    "data = pyhf.tensorlib.astensor(observations + model.config.auxdata)\n",
    "scan = np.linspace(0, 5, 21)\n",
    "obs_limit, exp_limits = pyhf.infer.intervals.upper_limits.upper_limit(\n",
    "    data, model, scan, return_results=False\n",
    ")\n",
    "print(ns*obs_limit,ns*exp_limits[2])"
   ]
  },
  {
   "cell_type": "code",
   "execution_count": 21,
   "id": "9708e24e",
   "metadata": {},
   "outputs": [
    {
     "name": "stdout",
     "output_type": "stream",
     "text": [
      "11.31877888432479 1.1318778884171654\n"
     ]
    }
   ],
   "source": [
    "ns = 10.0\n",
    "nb = 10.0\n",
    "nobs = 10.0\n",
    "bgError = 6.0\n",
    "\n",
    "model = pyhf.simplemodels.uncorrelated_background(\n",
    "    signal=[ns], bkg=[nb], bkg_uncertainty=[bgError]\n",
    ")\n",
    "observations = [nobs]\n",
    "data = pyhf.tensorlib.astensor(observations + model.config.auxdata)\n",
    "scan = None\n",
    "obs_limit, exp_limits = pyhf.infer.intervals.upper_limits.upper_limit(\n",
    "    data, model, scan, return_results=False\n",
    ")\n",
    "print(ns*obs_limit,exp_limits[2])"
   ]
  },
  {
   "cell_type": "markdown",
   "id": "cc8772ce",
   "metadata": {},
   "source": [
    "## Using SModelS code"
   ]
  },
  {
   "cell_type": "code",
   "execution_count": 22,
   "id": "2004abb9",
   "metadata": {},
   "outputs": [
    {
     "name": "stdout",
     "output_type": "stream",
     "text": [
      "[13.62729794]\n"
     ]
    }
   ],
   "source": [
    "from statisticalTools.simplifiedLikelihoods import Data,UpperLimitComputer\n",
    "ulComp = UpperLimitComputer()\n",
    "\n",
    "ns = np.array([ns])\n",
    "nbg = np.array([nb])\n",
    "data = Data(observed=nobs, backgrounds=nbg, covariance=[bgError**2], \n",
    "            nsignal=ns,deltas_rel=0.0)\n",
    "ul = ulComp.getUpperLimitOnMu(data)\n",
    "print(ul*ns)"
   ]
  },
  {
   "cell_type": "code",
   "execution_count": null,
   "id": "01a93460",
   "metadata": {},
   "outputs": [],
   "source": []
  }
 ],
 "metadata": {
  "kernelspec": {
   "display_name": "Python 3",
   "language": "python",
   "name": "python3"
  },
  "language_info": {
   "codemirror_mode": {
    "name": "ipython",
    "version": 3
   },
   "file_extension": ".py",
   "mimetype": "text/x-python",
   "name": "python",
   "nbconvert_exporter": "python",
   "pygments_lexer": "ipython3",
   "version": "3.12.3"
  }
 },
 "nbformat": 4,
 "nbformat_minor": 5
}
