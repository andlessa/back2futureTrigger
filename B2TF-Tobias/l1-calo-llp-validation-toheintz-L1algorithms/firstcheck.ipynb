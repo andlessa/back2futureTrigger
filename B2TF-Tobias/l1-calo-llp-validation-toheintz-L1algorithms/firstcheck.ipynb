{
 "cells": [
  {
   "cell_type": "code",
   "execution_count": null,
   "metadata": {
    "vscode": {
     "languageId": "python"
    }
   },
   "outputs": [
    {
     "ename": "",
     "evalue": "",
     "output_type": "error",
     "traceback": [
      "\u001b[1;31mFailed to start the Kernel. \n",
      "\u001b[1;31mImportError: /work/heintz/miniconda3/lib/python3.12/lib-dynload/_sqlite3.cpython-312-x86_64-linux-gnu.so: undefined symbol: sqlite3_deserialize. \n",
      "\u001b[1;31mView Jupyter <a href='command:jupyter.viewOutput'>log</a> for further details."
     ]
    }
   ],
   "source": [
    "import ROOT\n",
    "import re\n",
    "ROOT.ROOT.EnableImplicitMT()\n",
    "#ROOT.gErrorIgnoreLevel = ROOT.kBreak\n",
    "ROOT.gStyle.SetOptStat(0)\n",
    "#Nice interactive Draws \n",
    "%jsroot on\n",
    "from math import *"
   ]
  },
  {
   "cell_type": "markdown",
   "metadata": {},
   "source": [
    "## Define Sample Names"
   ]
  },
  {
   "cell_type": "code",
   "execution_count": 2,
   "metadata": {
    "vscode": {
     "languageId": "python"
    }
   },
   "outputs": [],
   "source": [
    "sample_codes =[\n",
    "#    [100010,\"600,200,160\",ROOT.kRed+0],\n",
    "#    [100011,\"600,200,140\",ROOT.kRed+1],\n",
    "#    [100012,\"600,200,120\",ROOT.kRed+2],\n",
    "#    [100013,\"600,200,100\",ROOT.kRed+3],\n",
    "#    [100014,\"1000,400,360\",ROOT.kBlue+0],\n",
    "#    [100015,\"1000,400,340\",ROOT.kBlue+1],\n",
    "#    [100016,\"1000,400,320\",ROOT.kBlue+2],\n",
    "#    [100017,\"1000,400,300\",ROOT.kBlue+3],\n",
    "#    [100018,\"1500,700,660\",ROOT.kGreen+0],\n",
    "#    [100019,\"1500,700,640\",ROOT.kGreen+1],\n",
    "#    [100020,\"1500,700,620\",ROOT.kGreen+2],\n",
    "#    [100021,\"1500,700,600\",ROOT.kGreen+3],\n",
    "[100022,\"1000,400,350,500\",ROOT.kRed+0],\n",
    "[100023,\"1000,400,350,1000\",ROOT.kRed+1],\n",
    "[100024,\"1000,400,350,1500\",ROOT.kRed+2],\n",
    "[100025,\"1000,400,350,2000\",ROOT.kRed+3],\n",
    "[100026,\"1000,400,350,3000\",ROOT.kRed+4],\n",
    "[100027,\"1000,400,350,5000\",ROOT.kRed+5],\n",
    "[100028,\"1000,400,350,7500\",ROOT.kRed+6],\n",
    "[100029,\"1000,400,350,10000\",ROOT.kRed+7],\n",
    "[100030,\"1500,650,600,500\",ROOT.kViolet+0],\n",
    "[100031,\"1500,650,600,1000\",ROOT.kViolet+1],\n",
    "[100032,\"1500,650,600,1500\",ROOT.kViolet+2],\n",
    "[100033,\"1500,650,600,2000\",ROOT.kViolet+3],\n",
    "[100034,\"1500,650,600,3000\",ROOT.kViolet+4],\n",
    "[100035,\"1500,650,600,5000\",ROOT.kViolet+5],\n",
    "[100036,\"1500,650,600,7500\",ROOT.kViolet+6],\n",
    "[100037,\"1500,650,600,10000\",ROOT.kViolet+7],\n",
    "[100038,\"2500,1150,1100,500\",ROOT.kCyan+0],\n",
    "[100039,\"2500,1150,1100,1000\",ROOT.kCyan+1],\n",
    "[100040,\"2500,1150,1100,1500\",ROOT.kCyan+2],\n",
    "[100041,\"2500,1150,1100,2000\",ROOT.kCyan+3],\n",
    "[100042,\"2500,1150,1100,3000\",ROOT.kCyan+4],\n",
    "[100043,\"2500,1150,1100,5000\",ROOT.kCyan+5],\n",
    "[100044,\"2500,1150,1100,7500\",ROOT.kCyan+6],\n",
    "[100045,\"2500,1150,1100,10000\",ROOT.kCyan+7],\n",
    "[100046,\"3000,1400,1350,500\",ROOT.kSpring+0],\n",
    "[100047,\"3000,1400,1350,1000\",ROOT.kSpring+1],\n",
    "[100048,\"3000,1400,1350,1500\",ROOT.kSpring+2],\n",
    "[100049,\"3000,1400,1350,2000\",ROOT.kSpring+3],\n",
    "[100050,\"3000,1400,1350,3000\",ROOT.kSpring+4],\n",
    "[100051,\"3000,1400,1350,5000\",ROOT.kSpring+5],\n",
    "[100052,\"3000,1400,1350,7500\",ROOT.kSpring+6],\n",
    "[100053,\"3000,1400,1350,10000\",ROOT.kSpring+7],\n",
    "[100054,\"5000,2400,2350,500\",ROOT.kOrange+0],\n",
    "[100055,\"5000,2400,2350,1000\",ROOT.kOrange+1],\n",
    "[100056,\"5000,2400,2350,1500\",ROOT.kOrange+2],\n",
    "[100057,\"5000,2400,2350,2000\",ROOT.kOrange+3],\n",
    "[100058,\"5000,2400,2350,3000\",ROOT.kOrange+4],\n",
    "[100059,\"5000,2400,2350,5000\",ROOT.kOrange+5],\n",
    "[100060,\"5000,2400,2350,7500\",ROOT.kOrange+6],\n",
    "[100061,\"5000,2400,2350,10000\",ROOT.kOrange+7]\n",
    "]"
   ]
  },
  {
   "cell_type": "markdown",
   "metadata": {},
   "source": [
    "## Load Samples And Filter For Intersting Tree Columns"
   ]
  },
  {
   "cell_type": "code",
   "execution_count": null,
   "metadata": {
    "vscode": {
     "languageId": "python"
    }
   },
   "outputs": [],
   "source": [
    "samples = list()\n",
    "cnames = list()\n",
    "for sample in sample_codes:\n",
    "    sample_d = ROOT.RDataFrame(\"analysis\",\"/work/gbird/EDMGeneratorStudies/l1-calo-llp-validation/run/submitDir09_10_11_09_{n}/data-ANALYSIS/run.root\".format(n=sample[0]))\n",
    "    sample_d = sample_d.Define(\"llpdecayDiffRatio\",\"(subleadLLPt-leadLLPt)/(subleadLLPt+leadLLPt)\")\n",
    "    cnames = [n for n in sample_d.GetColumnNames() if re.search(\"llp\",str(n),re.IGNORECASE)] #Rough filter for interesting columns\n",
    "    samples.append([sample,sample_d])\n",
    "print(samples[0][1].GetColumnNames())"
   ]
  },
  {
   "cell_type": "code",
   "execution_count": 4,
   "metadata": {
    "vscode": {
     "languageId": "python"
    }
   },
   "outputs": [],
   "source": [
    "triggered_samples = list()\n",
    "for sample in samples:\n",
    "    triggered_sample = sample[1].Filter(\"std::abs(pho_llp1_eta)<2 && std::abs(pho_llp2_eta)<2\",\"Photons within acceptance\")\n",
    "    triggered_sample = triggered_sample.Filter(\"40 < pho_llp1_pt && pho_llp1_pt < 100 && 40 < pho_llp2_pt && pho_llp2_pt < 100 \",\"Within (approximate) Triggerable pT\")\n",
    "    triggered_sample = triggered_sample.Filter(\"llp_del_phi>(3.1459-1)\",\"Within Delta Phi Cut\",)\n",
    "    triggered_sample = triggered_sample.Filter(\"subleadLLPLxy < 2000 && leadLLPLxy <2000\",\"Photons within rough radius \")\n",
    "    triggered_sample = triggered_sample.Filter(\"pho_llp_del_t>25 && pho_llp_del_t<50\",\"Matches timing needs\")\n",
    "    triggered_samples.append([sample[0],triggered_sample])"
   ]
  },
  {
   "cell_type": "code",
   "execution_count": null,
   "metadata": {
    "vscode": {
     "languageId": "python"
    }
   },
   "outputs": [],
   "source": [
    "sample_idx = 0\n",
    "for triggered_sample in triggered_samples:\n",
    "    print(triggered_sample[0])\n",
    "    #report = triggered_sample[1].Report().GetValue()\n",
    "    #report.Print()\n",
    "    print(triggered_sample[0][1].split(\",\")[3])\n",
    "    print(triggered_sample[1].Count().GetValue())\n",
    "    sample_idx += 1"
   ]
  },
  {
   "cell_type": "code",
   "execution_count": null,
   "metadata": {
    "vscode": {
     "languageId": "python"
    }
   },
   "outputs": [],
   "source": [
    "# Define lifetimes and mass points\n",
    "lifetimes = [500, 1000, 1500, 2000, 3000, 5000, 7500, 10000]\n",
    "mass_points =  [1000,1500,2500,3000,5000]\n",
    "print(len(lifetimes))\n",
    "\n",
    "# Create a 2D TEfficiency object\n",
    "efficiency = ROOT.TEfficiency(\"efficiency\", \"my efficiency;c#tau;MassIdx\", len(lifetimes), 0, 11000, len(mass_points), 0, len(mass_points))\n",
    "efficiency1Ds = [ROOT.TEfficiency(\"efficiency\", f\"efficiency {mass_points[idx]};c#tau;#epsilon\", len(lifetimes), 0, 11000) for idx in range(len(mass_points)) ] \n",
    "\n",
    "# Loop over triggered samples\n",
    "sample_idx = 0\n",
    "\n",
    "for triggered_sample in triggered_samples:\n",
    "    # Extract mass and lifetime from the sample description\n",
    "    mass_s = int(triggered_sample[0][1].split(\",\")[0])  # Assuming mass is the first element\n",
    "    lifetime = int(triggered_sample[0][1].split(\",\")[3])  # Assuming lifetime is the fourth element\n",
    "\n",
    "    # Get total and triggered events\n",
    "    total_events = samples[sample_idx][1].Count().GetValue()\n",
    "    triggered_events = triggered_sample[1].Count().GetValue()\n",
    " #   print(f\"Sample {sample_idx}: Mass = {mass_s}, Lifetime = {lifetime}, Total Events = {total_events}, Triggered Events = {triggered_events}\")\n",
    "\n",
    "    # Find the index of the mass point\n",
    "    mass_index = mass_points.index(mass_s) if mass_s in mass_points else -1\n",
    "\n",
    "    # Fill the efficiency object if the mass index is valid, this is a silly way to do it, oh well\n",
    "    if mass_index != -1 and total_events > 0:\n",
    "        for _ in range(triggered_events):\n",
    "            efficiency.Fill(True, lifetime, mass_index)  # Triggered events\n",
    "            efficiency1Ds[mass_index].Fill(True, lifetime)  # Triggered events\n",
    "        for _ in range(total_events - triggered_events):\n",
    "            efficiency.Fill(False, lifetime, mass_index)  # Non-triggered events\n",
    "            efficiency1Ds[mass_index].Fill(False, lifetime )  # Non-Triggered events\n",
    "\n",
    "    sample_idx += 1\n",
    "\n",
    "# Create a canvas to draw the efficiency plot\n",
    "c1 = ROOT.TCanvas(\"c1\", \"Efficiency vs Lifetime\", 800, 600)\n",
    "\n",
    "# Draw the efficiency plot\n",
    "efficiency.Draw(\"COLZ\")  # Use COLZ for a 2D color plot\n",
    "c1.Draw()\n",
    "\n",
    "# Save the canvas\n",
    "c1.SaveAs(\"Images/efficiency_vs_lifetime_2D.png\")\n",
    "\n",
    "# Keep the canvas in scope\n",
    "c1.Update()  # Refresh the canvas to ensure it displays correctly"
   ]
  },
  {
   "cell_type": "code",
   "execution_count": null,
   "metadata": {
    "vscode": {
     "languageId": "python"
    }
   },
   "outputs": [],
   "source": [
    "c_effproject = ROOT.TCanvas(\"Distributions\",\"Distibutions\",1000,2000)\n",
    "c_effproject.Divide(2,ceil(len(mass_points)/2))\n",
    "c_idx = 1\n",
    "for p in efficiency1Ds:\n",
    "    c_effproject.cd(c_idx)\n",
    "    p.Draw(\"COLZ\")\n",
    "    c_idx+=1\n",
    "c_effproject.Draw()"
   ]
  },
  {
   "cell_type": "code",
   "execution_count": null,
   "metadata": {
    "vscode": {
     "languageId": "python"
    }
   },
   "outputs": [],
   "source": [
    "first_sample = True \n",
    "hists = [] #block garbage collection\n",
    "cdists = ROOT.TCanvas(\"Distributions\",\"Distibutions\",1500,7000)\n",
    "cdists.Divide(2,ceil(len(cnames)/2))\n",
    "l = ROOT.TLegend()\n",
    "projections = []\n",
    "models = dict()\n",
    "max_values = dict()\n",
    "first_sample = True\n",
    "for label, d in samples:\n",
    "   # d = base_d.Filter(\"subleadLLPboost<0.7\")\n",
    "    colidx=1\n",
    "    first_column = True\n",
    "    for name in cnames:\n",
    "        cdists.cd(colidx)\n",
    "        #ROOT.gPad.SetLogy() \n",
    "        if first_sample:\n",
    "            hists.append(d.Histo1D(name))\n",
    "            model = ROOT.RDF.TH1DModel(hists[-1].GetValue())\n",
    "            model.fXUp = ceil(model.fXUp /2)\n",
    "            if name == \"pho_llp_del_t\" or name == \"subleadLLPt\" or name == \"leadLLPt\":\n",
    "                model.fXUp = 100 #Some issue with finding min value if too small\n",
    "            if model.fXLow > 0 : model.fXLow = 0\n",
    "            model.fNbinsX = ceil(model.fNbinsX /4)\n",
    "            models[name] = model \n",
    "            max_values[name] =  1.2*hists[-1].GetMaximum()\n",
    "            hists[-1]= d.Histo1D(model,name)\n",
    "        else:\n",
    "            hists.append(d.Histo1D(models[name],name))\n",
    "        #hists[-1].Rebin(2) # Must be before y-axis rescaling\n",
    "        hists[-1].SetMaximum(2*hists[-1].GetMaximum())\n",
    "        hists[-1].SetLineColor(label[2])\n",
    "        if first_column:\n",
    "            l.AddEntry(hists[-1].GetValue(),label[1],\"l\")\n",
    "           # ROOT.TH1DModel(hists[-1])\n",
    "        hists[-1].Draw(\"SAME\")\n",
    "        colidx+=1\n",
    "        first_column = False\n",
    "    first_sample = False\n",
    "    projections.append(d.Histo2D((label[1],\"m_{s},m_{1},m_{0}\"+label[1],20,0,1,20,0,1),\"leadLLPboost\",\"subleadLLPboost\"))\n",
    "for canvas_index in range(len(cnames)):\n",
    "    cdists.cd(canvas_index+1)\n",
    "    l.SetHeader(\"m_{s},m_{1},m_{0}\")\n",
    "    l.Draw()\n",
    "cdists.Draw()\n"
   ]
  },
  {
   "cell_type": "code",
   "execution_count": null,
   "metadata": {
    "vscode": {
     "languageId": "python"
    }
   },
   "outputs": [],
   "source": [
    "c_2Ddists = ROOT.TCanvas(\"Distributions\",\"Distibutions\",1000,3000)\n",
    "c_2Ddists.Divide(2,ceil(len(projections)/2))\n",
    "c_idx = 1\n",
    "for p in projections:\n",
    "    c_2Ddists.cd(c_idx)\n",
    "    p.Draw(\"COLZ\")\n",
    "    c_idx+=1\n",
    "c_2Ddists.Draw()"
   ]
  },
  {
   "cell_type": "code",
   "execution_count": null,
   "metadata": {
    "vscode": {
     "languageId": "python"
    }
   },
   "outputs": [],
   "source": [
    "first_sample = True \n",
    "hists = [] #block garbage collection\n",
    "cdists = ROOT.TCanvas(\"Distributions\",\"Distibutions\",1500,7000)\n",
    "cdists.Divide(2,ceil(len(cnames)/2))\n",
    "l = ROOT.TLegend()\n",
    "projections = []\n",
    "models = dict()\n",
    "max_values = dict()\n",
    "first_sample = True\n",
    "for label, d in triggered_samples:\n",
    "   # d = base_d.Filter(\"subleadLLPboost<0.7\")\n",
    "    colidx=1\n",
    "    first_column = True\n",
    "    for name in cnames:\n",
    "        cdists.cd(colidx)\n",
    "        #ROOT.gPad.SetLogy() \n",
    "        if first_sample:\n",
    "            hists.append(d.Histo1D(name))\n",
    "            model = ROOT.RDF.TH1DModel(hists[-1].GetValue())\n",
    "            model.fXUp = ceil(model.fXUp /2)\n",
    "            if name == \"pho_llp_del_t\" or name == \"subleadLLPt\" or name == \"leadLLPt\":\n",
    "                model.fXUp = 100 #Some issue with finding min value if too small\n",
    "            if model.fXLow > 0 : model.fXLow = 0\n",
    "            model.fNbinsX = ceil(model.fNbinsX /4)\n",
    "            models[name] = model \n",
    "            max_values[name] =  1.2*hists[-1].GetMaximum()\n",
    "            hists[-1]= d.Histo1D(model,name)\n",
    "        else:\n",
    "            hists.append(d.Histo1D(models[name],name))\n",
    "        #hists[-1].Rebin(2) # Must be before y-axis rescaling\n",
    "        hists[-1].SetMaximum(2*hists[-1].GetMaximum())\n",
    "        hists[-1].SetLineColor(label[2])\n",
    "        if first_column:\n",
    "            l.AddEntry(hists[-1].GetValue(),label[1],\"l\")\n",
    "           # ROOT.TH1DModel(hists[-1])\n",
    "        hists[-1].Draw(\"SAME\")\n",
    "        colidx+=1\n",
    "        first_column = False\n",
    "    first_sample = False\n",
    "    projections.append(d.Histo2D((label[1],\"m_{s},m_{1},m_{0}\"+label[1],20,0,1,20,0,1),\"leadLLPboost\",\"subleadLLPboost\"))\n",
    "for canvas_index in range(len(cnames)):\n",
    "    cdists.cd(canvas_index+1)\n",
    "    l.SetHeader(\"m_{s},m_{1},m_{0}\")\n",
    "    l.Draw()\n",
    "cdists.Draw()\n"
   ]
  },
  {
   "cell_type": "code",
   "execution_count": null,
   "metadata": {
    "vscode": {
     "languageId": "python"
    }
   },
   "outputs": [],
   "source": [
    "c_2Ddists = ROOT.TCanvas(\"Distributions\",\"Distibutions\",1000,3000)\n",
    "c_2Ddists.Divide(2,ceil(len(projections)/2))\n",
    "c_idx = 1\n",
    "for p in projections:\n",
    "    c_2Ddists.cd(c_idx)\n",
    "    p.Draw(\"COLZ\")\n",
    "    c_idx+=1\n",
    "c_2Ddists.Draw()"
   ]
  }
 ],
 "metadata": {
  "kernelspec": {
   "display_name": "ROOT C++",
   "language": "c++",
   "name": "root"
  },
  "language_info": {
   "codemirror_mode": {
    "name": "ipython",
    "version": 3
   },
   "file_extension": ".py",
   "mimetype": "text/x-python",
   "name": "c++",
   "nbconvert_exporter": "python",
   "pygments_lexer": "ipython3",
   "version": "3.12.5"
  }
 },
 "nbformat": 4,
 "nbformat_minor": 2
}
