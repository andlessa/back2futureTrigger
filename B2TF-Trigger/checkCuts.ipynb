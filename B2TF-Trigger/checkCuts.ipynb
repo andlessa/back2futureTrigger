{
 "cells": [
  {
   "cell_type": "code",
   "execution_count": 1,
   "id": "abc31bfb",
   "metadata": {},
   "outputs": [
    {
     "name": "stdout",
     "output_type": "stream",
     "text": [
      "Welcome to JupyROOT 6.30/06\n"
     ]
    }
   ],
   "source": [
    "#!/usr/bin/env python3\n",
    "\n",
    "import os, time, sys\n",
    "sys.path.append('../')\n",
    "import numpy as np\n",
    "import pyhepmc\n",
    "import random\n",
    "import logging\n",
    "import configparser\n",
    "import subprocess\n",
    "import multiprocessing\n",
    "import itertools\n",
    "import progressbar as P\n",
    "from helper import getModelDict\n",
    "import getEffsFromROOT\n",
    "import getEffsFromROOTv2\n",
    "delphesDir = os.path.abspath(\"../DelphesLLP\")\n",
    "os.environ['ROOT_INCLUDE_PATH'] = os.path.join(delphesDir,\"external\")\n",
    "\n",
    "import ROOT\n",
    "\n",
    "\n",
    "ROOT.gSystem.Load(os.path.join(delphesDir,\"libDelphes.so\"))\n",
    "\n",
    "ROOT.gInterpreter.Declare('#include \"classes/SortableObject.h\"')\n",
    "ROOT.gInterpreter.Declare('#include \"classes/DelphesClasses.h\"')\n",
    "ROOT.gInterpreter.Declare('#include \"external/ExRootAnalysis/ExRootTreeReader.h\"')\n",
    "\n",
    "c = 3e8\n",
    "\n",
    "FORMAT = '%(levelname)s: %(message)s at %(asctime)s'\n",
    "logging.basicConfig(format=FORMAT,datefmt='%m/%d/%Y %I:%M:%S %p')\n",
    "logger = logging.getLogger()   "
   ]
  },
  {
   "cell_type": "code",
   "execution_count": 2,
   "id": "9c509412",
   "metadata": {},
   "outputs": [],
   "source": [
    "inputFile = '../pp2chi0chi0_minimalH_scan_jets/Events/run_01/ddmH_mS_2000_m1_979_dm_90_delphes_events.root'\n",
    "tauList = [4.]\n",
    "llps = [4000023]\n",
    "invisibles = [12,14,16,4000022]\n",
    "f = ROOT.TFile(inputFile,'read')\n",
    "tree = f.Get(\"Delphes\")"
   ]
  },
  {
   "cell_type": "code",
   "execution_count": 3,
   "id": "bc34b863",
   "metadata": {},
   "outputs": [
    {
     "data": {
      "text/plain": [
       "23372"
      ]
     },
     "execution_count": 3,
     "metadata": {},
     "output_type": "execute_result"
    }
   ],
   "source": [
    "tree.GetEntry(0)"
   ]
  },
  {
   "cell_type": "code",
   "execution_count": 4,
   "id": "4e803f48",
   "metadata": {},
   "outputs": [
    {
     "name": "stdout",
     "output_type": "stream",
     "text": [
      "[0.]\n",
      "{'All': array([1.]), 'Eta cut': array([1.]), 'Energy theshold': array([1.]), 'Delta Phi': array([0.]), 'Decay Position': array([0.]), 'Decay Time': array([0.])}\n"
     ]
    }
   ],
   "source": [
    "evt_effs,evt_cutFlow = getEffsFromROOT.getEffFor(tree,tauList,llps=llps,invisibles=invisibles)\n",
    "print(evt_effs)\n",
    "print(evt_cutFlow)"
   ]
  },
  {
   "cell_type": "code",
   "execution_count": 5,
   "id": "0b02c353",
   "metadata": {},
   "outputs": [
    {
     "name": "stdout",
     "output_type": "stream",
     "text": [
      "[0.]\n",
      "{'All': array([1.]), 'Eta cut': array([1.]), 'Energy theshold': array([0.]), 'Delta Phi': array([0.]), 'Decay Position': array([0.]), 'Decay Time': array([0.])}\n"
     ]
    }
   ],
   "source": [
    "evt_effs,evt_cutFlow = getEffsFromROOTv2.getEffFor(tree,tauList,llps=llps,invisibles=invisibles)\n",
    "print(evt_effs)\n",
    "print(evt_cutFlow)"
   ]
  },
  {
   "cell_type": "code",
   "execution_count": 6,
   "id": "c00d8fed",
   "metadata": {},
   "outputs": [
    {
     "name": "stdout",
     "output_type": "stream",
     "text": [
      "LLP1:\n",
      "   visible GenParticle(FourVector(34.8, -32.1, 116, 144), pid=0, status=0)\n",
      "   invisible GenParticle(FourVector(-135, 5.43, 1.46e+03, 1.71e+03), pid=0, status=0)\n",
      "   cluster 49.00502395629883\n",
      "   parent GenParticle(FourVector(-100, -26.7, 1.57e+03, 1.85e+03), pid=4000023, status=0)\n",
      "   visiblePDGs [5, -5]\n",
      "   invisiblePDGs [-4000022]\n",
      "LLP2:\n",
      "   visible GenParticle(FourVector(26.8, 23.3, 81.4, 116), pid=1, status=0)\n",
      "   invisible GenParticle(FourVector(852, 458, 760, 1.52e+03), pid=1, status=0)\n",
      "   cluster 28.322751775967543\n",
      "   parent GenParticle(FourVector(879, 481, 842, 1.63e+03), pid=-4000023, status=0)\n",
      "   visiblePDGs [5, -5]\n",
      "   invisiblePDGs [-4000022]\n"
     ]
    }
   ],
   "source": [
    "eventDict = getEffsFromROOT.getDataFrom(tree,llps=llps,invisibles=invisibles)\n",
    "print('LLP1:')\n",
    "for key in eventDict[0]:\n",
    "    if key == 'cluster':\n",
    "        print('  ',key,eventDict[0][key].momentum.pt())\n",
    "    else:\n",
    "        print('  ',key,eventDict[0][key])\n",
    "print('LLP2:')\n",
    "for key in eventDict[1]:\n",
    "    if key == 'cluster':\n",
    "        print('  ',key,eventDict[1][key].momentum.pt())\n",
    "    else:\n",
    "        print('  ',key,eventDict[1][key])\n"
   ]
  },
  {
   "cell_type": "code",
   "execution_count": 7,
   "id": "d80eaaf9",
   "metadata": {},
   "outputs": [
    {
     "name": "stdout",
     "output_type": "stream",
     "text": [
      "LLP on-time:\n",
      "   visible GenParticle(FourVector(34.8, -32.1, 116, 144), pid=0, status=0)\n",
      "   invisible GenParticle(FourVector(-135, 5.43, 1.46e+03, 1.71e+03), pid=0, status=0)\n",
      "   parent GenParticle(FourVector(-100, -26.7, 1.57e+03, 1.85e+03), pid=4000023, status=0)\n",
      "   visiblePDGs [5, -5]\n",
      "   invisiblePDGs [4000022]\n",
      "  *cluster* =  899.0795288085936\n",
      "  *cluster* =  49.00502395629883\n",
      "  *cluster* =  32.47551345825195\n",
      "  *cluster* =  20.471296310424805\n",
      "LLP delayed:\n",
      "   visible GenParticle(FourVector(26.8, 23.3, 81.4, 116), pid=0, status=0)\n",
      "   invisible GenParticle(FourVector(852, 458, 760, 1.52e+03), pid=0, status=0)\n",
      "   parent GenParticle(FourVector(879, 481, 842, 1.63e+03), pid=-4000023, status=0)\n",
      "   visiblePDGs [5, -5]\n",
      "   invisiblePDGs [-4000022]\n",
      "  *cluster* =  43.50146484375\n",
      "  *cluster* =  26.193784713745117\n"
     ]
    }
   ],
   "source": [
    "# Extract necessary data from event\n",
    "eventDict_ontime = getEffsFromROOTv2.getDataFrom(tree.llpParticlesOnTime,\n",
    "                                tree.llpDirectDaughtersOnTime,\n",
    "                                llp_PDGs=llps,invisible_PDGs=invisibles)\n",
    "eventDict_delayed = getEffsFromROOTv2.getDataFrom(tree.llpParticlesDelayed,\n",
    "                                tree.llpDirectDaughtersDelayed,\n",
    "                                llp_PDGs=llps,invisible_PDGs=invisibles)\n",
    "\n",
    "# Get on-time and delayed jets\n",
    "jets_ontime = getEffsFromROOTv2.getJetsFrom(tree.GenJetOnTime)\n",
    "jets_delayed = getEffsFromROOTv2.getJetsFrom(tree.GenJetDelayed)\n",
    "\n",
    "print('LLP on-time:')\n",
    "for key in eventDict_ontime[0]:\n",
    "    print('  ',key,eventDict_ontime[0][key])\n",
    "for j in jets_ontime:\n",
    "    print('  *cluster* = ',j.momentum.pt())\n",
    "print('LLP delayed:')\n",
    "for key in eventDict_delayed[0]:\n",
    "    print('  ',key,eventDict_delayed[0][key])\n",
    "for j in jets_delayed:\n",
    "    print('  *cluster* = ',j.momentum.pt())"
   ]
  },
  {
   "cell_type": "code",
   "execution_count": null,
   "id": "aee0821e",
   "metadata": {},
   "outputs": [],
   "source": []
  }
 ],
 "metadata": {
  "kernelspec": {
   "display_name": "Python 3",
   "language": "python",
   "name": "python3"
  },
  "language_info": {
   "codemirror_mode": {
    "name": "ipython",
    "version": 3
   },
   "file_extension": ".py",
   "mimetype": "text/x-python",
   "name": "python",
   "nbconvert_exporter": "python",
   "pygments_lexer": "ipython3",
   "version": "3.12.3"
  }
 },
 "nbformat": 4,
 "nbformat_minor": 5
}
