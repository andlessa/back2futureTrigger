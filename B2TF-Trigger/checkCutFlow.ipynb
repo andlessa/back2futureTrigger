{
 "cells": [
  {
   "cell_type": "code",
   "execution_count": 1,
   "id": "3d4ac6af",
   "metadata": {},
   "outputs": [],
   "source": [
    "import pandas as pd"
   ]
  },
  {
   "cell_type": "code",
   "execution_count": 8,
   "id": "2d6213a2",
   "metadata": {},
   "outputs": [
    {
     "data": {
      "text/html": [
       "<div>\n",
       "<style scoped>\n",
       "    .dataframe tbody tr th:only-of-type {\n",
       "        vertical-align: middle;\n",
       "    }\n",
       "\n",
       "    .dataframe tbody tr th {\n",
       "        vertical-align: top;\n",
       "    }\n",
       "\n",
       "    .dataframe thead th {\n",
       "        text-align: right;\n",
       "    }\n",
       "</style>\n",
       "<table border=\"1\" class=\"dataframe\">\n",
       "  <thead>\n",
       "    <tr style=\"text-align: right;\">\n",
       "      <th></th>\n",
       "      <th>0</th>\n",
       "      <th>1</th>\n",
       "    </tr>\n",
       "  </thead>\n",
       "  <tbody>\n",
       "    <tr>\n",
       "      <th># All</th>\n",
       "      <td>10000.0</td>\n",
       "      <td>1.0000</td>\n",
       "    </tr>\n",
       "    <tr>\n",
       "      <th>Eta cut</th>\n",
       "      <td>9518.0</td>\n",
       "      <td>0.9518</td>\n",
       "    </tr>\n",
       "    <tr>\n",
       "      <th>Energy theshold</th>\n",
       "      <td>4979.0</td>\n",
       "      <td>0.4979</td>\n",
       "    </tr>\n",
       "    <tr>\n",
       "      <th>Delta Phi</th>\n",
       "      <td>1753.0</td>\n",
       "      <td>0.1753</td>\n",
       "    </tr>\n",
       "    <tr>\n",
       "      <th>Decay Position</th>\n",
       "      <td>1598.0</td>\n",
       "      <td>0.1598</td>\n",
       "    </tr>\n",
       "    <tr>\n",
       "      <th>Decay Time</th>\n",
       "      <td>154.0</td>\n",
       "      <td>0.0154</td>\n",
       "    </tr>\n",
       "    <tr>\n",
       "      <th>m1</th>\n",
       "      <td>244.0</td>\n",
       "      <td>0.0244</td>\n",
       "    </tr>\n",
       "    <tr>\n",
       "      <th>m0</th>\n",
       "      <td>154.0</td>\n",
       "      <td>0.0154</td>\n",
       "    </tr>\n",
       "    <tr>\n",
       "      <th>mS</th>\n",
       "      <td>500.0</td>\n",
       "      <td>0.0500</td>\n",
       "    </tr>\n",
       "  </tbody>\n",
       "</table>\n",
       "</div>"
      ],
      "text/plain": [
       "                       0       1\n",
       "# All            10000.0  1.0000\n",
       "Eta cut           9518.0  0.9518\n",
       "Energy theshold   4979.0  0.4979\n",
       "Delta Phi         1753.0  0.1753\n",
       "Decay Position    1598.0  0.1598\n",
       "Decay Time         154.0  0.0154\n",
       "m1                 244.0  0.0244\n",
       "m0                 154.0  0.0154\n",
       "mS                 500.0  0.0500"
      ]
     },
     "execution_count": 8,
     "metadata": {},
     "output_type": "execute_result"
    }
   ],
   "source": [
    "# file = '../pp2chi0chi0_minimalH_scan_jets/Events/run_01/ddmH_mS_2000_m1_979_dm_90_delphes_events_b2tf_cutFlow.csv'\n",
    "file = '../pp2chi0chi0_minimalH_scan_jets/Events/run_03/ddmH_mS_500_m1_244_dm_90_delphes_events_b2tf_cutFlow.csv'\n",
    "# file = '../pp2chi0chi0J_minimalH_scan/Events/run_02/ddmH_mS_2000_m1_979_dm_90_delphes_events_b2tf_cutFlow.csv'\n",
    "\n",
    "cutDF = pd.read_csv(file,skiprows=2)\n",
    "newRow = {}\n",
    "for key in cutDF.columns:\n",
    "    newRow[key] = [float(cutDF[key].iloc[0]/cutDF['# All'].iloc[0])]\n",
    "df_the_dict = pd.DataFrame.from_dict(newRow)\n",
    "\n",
    "cutDF2 = pd.concat([cutDF, df_the_dict], ignore_index=True)\n",
    "cutDF2.T"
   ]
  },
  {
   "cell_type": "code",
   "execution_count": 9,
   "id": "fb0f4b74",
   "metadata": {},
   "outputs": [
    {
     "data": {
      "text/html": [
       "<div>\n",
       "<style scoped>\n",
       "    .dataframe tbody tr th:only-of-type {\n",
       "        vertical-align: middle;\n",
       "    }\n",
       "\n",
       "    .dataframe tbody tr th {\n",
       "        vertical-align: top;\n",
       "    }\n",
       "\n",
       "    .dataframe thead th {\n",
       "        text-align: right;\n",
       "    }\n",
       "</style>\n",
       "<table border=\"1\" class=\"dataframe\">\n",
       "  <thead>\n",
       "    <tr style=\"text-align: right;\">\n",
       "      <th></th>\n",
       "      <th>0</th>\n",
       "      <th>1</th>\n",
       "    </tr>\n",
       "  </thead>\n",
       "  <tbody>\n",
       "    <tr>\n",
       "      <th># All</th>\n",
       "      <td>10000.0</td>\n",
       "      <td>1.0000</td>\n",
       "    </tr>\n",
       "    <tr>\n",
       "      <th>Eta cut</th>\n",
       "      <td>9031.0</td>\n",
       "      <td>0.9031</td>\n",
       "    </tr>\n",
       "    <tr>\n",
       "      <th>ETmax(N-1) &lt; 100 GeV</th>\n",
       "      <td>5724.0</td>\n",
       "      <td>0.5724</td>\n",
       "    </tr>\n",
       "    <tr>\n",
       "      <th>Energy theshold</th>\n",
       "      <td>1921.0</td>\n",
       "      <td>0.1921</td>\n",
       "    </tr>\n",
       "    <tr>\n",
       "      <th>Delta Phi</th>\n",
       "      <td>867.0</td>\n",
       "      <td>0.0867</td>\n",
       "    </tr>\n",
       "    <tr>\n",
       "      <th>Decay Position</th>\n",
       "      <td>808.0</td>\n",
       "      <td>0.0808</td>\n",
       "    </tr>\n",
       "    <tr>\n",
       "      <th>Decay Time</th>\n",
       "      <td>65.0</td>\n",
       "      <td>0.0065</td>\n",
       "    </tr>\n",
       "    <tr>\n",
       "      <th>m1</th>\n",
       "      <td>244.0</td>\n",
       "      <td>0.0244</td>\n",
       "    </tr>\n",
       "    <tr>\n",
       "      <th>m0</th>\n",
       "      <td>154.0</td>\n",
       "      <td>0.0154</td>\n",
       "    </tr>\n",
       "    <tr>\n",
       "      <th>mS</th>\n",
       "      <td>500.0</td>\n",
       "      <td>0.0500</td>\n",
       "    </tr>\n",
       "  </tbody>\n",
       "</table>\n",
       "</div>"
      ],
      "text/plain": [
       "                            0       1\n",
       "# All                 10000.0  1.0000\n",
       "Eta cut                9031.0  0.9031\n",
       "ETmax(N-1) < 100 GeV   5724.0  0.5724\n",
       "Energy theshold        1921.0  0.1921\n",
       "Delta Phi               867.0  0.0867\n",
       "Decay Position          808.0  0.0808\n",
       "Decay Time               65.0  0.0065\n",
       "m1                      244.0  0.0244\n",
       "m0                      154.0  0.0154\n",
       "mS                      500.0  0.0500"
      ]
     },
     "execution_count": 9,
     "metadata": {},
     "output_type": "execute_result"
    }
   ],
   "source": [
    "# file2 = '../pp2chi0chi0_minimalH_scan_jets/Events/run_01/ddmH_mS_2000_m1_979_dm_90_delphes_events_b2tf_cutFlow_v2.csv'\n",
    "file2 = '../pp2chi0chi0_minimalH_scan_jets/Events/run_03/ddmH_mS_500_m1_244_dm_90_delphes_events_b2tf_cutFlow_v2.csv'\n",
    "# file2 = '../pp2chi0chi0J_minimalH_scan/Events/run_02/ddmH_mS_2000_m1_979_dm_90_delphes_events_b2tf_cutFlow_v2.csv'\n",
    "\n",
    "cutDF = pd.read_csv(file2,skiprows=2)\n",
    "newRow = {}\n",
    "for key in cutDF.columns:\n",
    "    newRow[key] = [float(cutDF[key].iloc[0]/cutDF['# All'].iloc[0])]\n",
    "df_the_dict = pd.DataFrame.from_dict(newRow)\n",
    "\n",
    "cutDF2 = pd.concat([cutDF, df_the_dict], ignore_index=True)\n",
    "cutDF2.T"
   ]
  },
  {
   "cell_type": "code",
   "execution_count": 6,
   "id": "167ec027",
   "metadata": {},
   "outputs": [
    {
     "data": {
      "text/plain": [
       "np.float64(0.0007810249675906654)"
      ]
     },
     "execution_count": 6,
     "metadata": {},
     "output_type": "execute_result"
    }
   ],
   "source": [
    "import numpy as  np\n",
    "np.sqrt(61.0)/10000"
   ]
  },
  {
   "cell_type": "code",
   "execution_count": null,
   "id": "077d9ac0",
   "metadata": {},
   "outputs": [],
   "source": []
  }
 ],
 "metadata": {
  "kernelspec": {
   "display_name": "Python 3",
   "language": "python",
   "name": "python3"
  },
  "language_info": {
   "codemirror_mode": {
    "name": "ipython",
    "version": 3
   },
   "file_extension": ".py",
   "mimetype": "text/x-python",
   "name": "python",
   "nbconvert_exporter": "python",
   "pygments_lexer": "ipython3",
   "version": "3.12.3"
  }
 },
 "nbformat": 4,
 "nbformat_minor": 5
}
