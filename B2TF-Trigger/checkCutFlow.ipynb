{
 "cells": [
  {
   "cell_type": "code",
   "execution_count": 1,
   "id": "3d4ac6af",
   "metadata": {},
   "outputs": [],
   "source": [
    "import pandas as pd"
   ]
  },
  {
   "cell_type": "code",
   "execution_count": 13,
   "id": "2d6213a2",
   "metadata": {},
   "outputs": [],
   "source": [
    "file = '../pp2chi0chi0_minimalH_scan/Events/run_06/ddmH_mS_2000_m1_979_dm_90_delphes_events_b2tf_cutFlow.csv'\n",
    "cutDF = pd.read_csv(file,skiprows=2)"
   ]
  },
  {
   "cell_type": "code",
   "execution_count": 17,
   "id": "fb0f4b74",
   "metadata": {},
   "outputs": [
    {
     "data": {
      "text/html": [
       "<div>\n",
       "<style scoped>\n",
       "    .dataframe tbody tr th:only-of-type {\n",
       "        vertical-align: middle;\n",
       "    }\n",
       "\n",
       "    .dataframe tbody tr th {\n",
       "        vertical-align: top;\n",
       "    }\n",
       "\n",
       "    .dataframe thead th {\n",
       "        text-align: right;\n",
       "    }\n",
       "</style>\n",
       "<table border=\"1\" class=\"dataframe\">\n",
       "  <thead>\n",
       "    <tr style=\"text-align: right;\">\n",
       "      <th></th>\n",
       "      <th>0</th>\n",
       "      <th>1</th>\n",
       "    </tr>\n",
       "  </thead>\n",
       "  <tbody>\n",
       "    <tr>\n",
       "      <th># All</th>\n",
       "      <td>100000.0</td>\n",
       "      <td>1.00000</td>\n",
       "    </tr>\n",
       "    <tr>\n",
       "      <th>Eta cut</th>\n",
       "      <td>99440.0</td>\n",
       "      <td>0.99440</td>\n",
       "    </tr>\n",
       "    <tr>\n",
       "      <th>Energy theshold</th>\n",
       "      <td>57530.0</td>\n",
       "      <td>0.57530</td>\n",
       "    </tr>\n",
       "    <tr>\n",
       "      <th>Delta Phi</th>\n",
       "      <td>27450.0</td>\n",
       "      <td>0.27450</td>\n",
       "    </tr>\n",
       "    <tr>\n",
       "      <th>Decay Position</th>\n",
       "      <td>21030.0</td>\n",
       "      <td>0.21030</td>\n",
       "    </tr>\n",
       "    <tr>\n",
       "      <th>Decay Time</th>\n",
       "      <td>1835.0</td>\n",
       "      <td>0.01835</td>\n",
       "    </tr>\n",
       "    <tr>\n",
       "      <th>m1</th>\n",
       "      <td>979.0</td>\n",
       "      <td>0.00979</td>\n",
       "    </tr>\n",
       "    <tr>\n",
       "      <th>m0</th>\n",
       "      <td>889.0</td>\n",
       "      <td>0.00889</td>\n",
       "    </tr>\n",
       "    <tr>\n",
       "      <th>mS</th>\n",
       "      <td>2000.0</td>\n",
       "      <td>0.02000</td>\n",
       "    </tr>\n",
       "  </tbody>\n",
       "</table>\n",
       "</div>"
      ],
      "text/plain": [
       "                        0        1\n",
       "# All            100000.0  1.00000\n",
       "Eta cut           99440.0  0.99440\n",
       "Energy theshold   57530.0  0.57530\n",
       "Delta Phi         27450.0  0.27450\n",
       "Decay Position    21030.0  0.21030\n",
       "Decay Time         1835.0  0.01835\n",
       "m1                  979.0  0.00979\n",
       "m0                  889.0  0.00889\n",
       "mS                 2000.0  0.02000"
      ]
     },
     "execution_count": 17,
     "metadata": {},
     "output_type": "execute_result"
    }
   ],
   "source": [
    "newRow = {}\n",
    "for key in cutDF.columns:\n",
    "    newRow[key] = [float(cutDF[key].iloc[0]/cutDF['# All'].iloc[0])]\n",
    "df_the_dict = pd.DataFrame.from_dict(newRow)\n",
    "\n",
    "cutDF2 = pd.concat([cutDF, df_the_dict], ignore_index=True)\n",
    "cutDF2.T"
   ]
  },
  {
   "cell_type": "code",
   "execution_count": null,
   "id": "167ec027",
   "metadata": {},
   "outputs": [],
   "source": []
  }
 ],
 "metadata": {
  "kernelspec": {
   "display_name": "Python 3",
   "language": "python",
   "name": "python3"
  },
  "language_info": {
   "codemirror_mode": {
    "name": "ipython",
    "version": 3
   },
   "file_extension": ".py",
   "mimetype": "text/x-python",
   "name": "python",
   "nbconvert_exporter": "python",
   "pygments_lexer": "ipython3",
   "version": "3.12.3"
  }
 },
 "nbformat": 4,
 "nbformat_minor": 5
}
