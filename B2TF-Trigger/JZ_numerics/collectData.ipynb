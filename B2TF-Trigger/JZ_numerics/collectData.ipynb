{
 "cells": [
  {
   "cell_type": "code",
   "execution_count": 1,
   "metadata": {},
   "outputs": [],
   "source": [
    "import numpy as np\n",
    "import glob,os"
   ]
  },
  {
   "cell_type": "code",
   "execution_count": 2,
   "metadata": {},
   "outputs": [
    {
     "name": "stdout",
     "output_type": "stream",
     "text": [
      "eff_ms2000_dm10.csv dm10gev\n",
      "eff_ms500_dm10.csv dm10gev\n",
      "eff_ms2000_ctau.csv ctaumm\n",
      "eff_ms500_ctau.csv ctaumm\n",
      "eff_dm90.csv msgev\n"
     ]
    }
   ],
   "source": [
    "beta_default = 0.2\n",
    "dm_default = 90.0\n",
    "ctau_default = 4.0\n",
    "ms_default = 500.0\n",
    "newData = None\n",
    "for f in glob.glob('./plots_to_steal/eff*csv'):\n",
    "    fname = os.path.basename(f)\n",
    "    if 'ms' in fname:\n",
    "        ms = float(fname.split('_')[1].replace('ms',''))\n",
    "    else:\n",
    "        ms = ms_default\n",
    "    data = np.genfromtxt(f,delimiter=',',names=True,case_sensitive='lower')\n",
    "    effs = data['efficiency']\n",
    "    xLabel = [name for name in data.dtype.names \n",
    "              if name !='efficiency'][0]\n",
    "    print(fname,xLabel)\n",
    "    if 'ctau' in xLabel:\n",
    "        dm = dm_default\n",
    "        m1 = 0.5*ms*np.sqrt(1-beta_default**2)\n",
    "        m0 = m1-dm\n",
    "        m1 = np.array([m1]*len(effs))\n",
    "        m0 = np.array([m0]*len(effs))\n",
    "        ms = np.array([ms]*len(effs))\n",
    "        ctau = data[xLabel]\n",
    "        if 'mm' in xLabel:\n",
    "            ctau = ctau/1000 # Convert to meters   \n",
    "    elif 'dm10' in xLabel:        \n",
    "        m1 = 0.5*ms*np.sqrt(1-beta_default**2)\n",
    "        m1 = np.array([m1]*len(effs))\n",
    "        ctau = np.array([ctau_default]*len(effs))\n",
    "        ms = np.array([ms]*len(effs))\n",
    "        dm = data[xLabel]\n",
    "        m0 = m1-dm\n",
    "    elif 'msgev' in xLabel:\n",
    "        ms = data[xLabel]\n",
    "        m1 = 0.5*ms*np.sqrt(1-beta_default**2)\n",
    "        ctau = np.array([ctau_default]*len(effs))\n",
    "        dm = np.array([dm_default]*len(effs))\n",
    "        m0 = m1-dm\n",
    "    if newData is None:\n",
    "        newData = np.array(list(zip(ms,m1,m0,ctau,effs)))\n",
    "    else:\n",
    "        newData = np.append(newData,list(zip(ms,m1,m0,ctau,effs)),axis=0)\n",
    "\n",
    "np.savetxt('b2tf_effs.csv',newData,delimiter=',',header='ms,m1,m0,ctau,eff',fmt='%1.3e')\n"
   ]
  },
  {
   "cell_type": "code",
   "execution_count": null,
   "metadata": {},
   "outputs": [],
   "source": []
  }
 ],
 "metadata": {
  "kernelspec": {
   "display_name": "Python 3",
   "language": "python",
   "name": "python3"
  },
  "language_info": {
   "codemirror_mode": {
    "name": "ipython",
    "version": 3
   },
   "file_extension": ".py",
   "mimetype": "text/x-python",
   "name": "python",
   "nbconvert_exporter": "python",
   "pygments_lexer": "ipython3",
   "version": "3.12.3"
  }
 },
 "nbformat": 4,
 "nbformat_minor": 2
}
