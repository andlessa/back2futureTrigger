{
 "cells": [
  {
   "cell_type": "code",
   "execution_count": null,
   "id": "b72d5217",
   "metadata": {},
   "outputs": [
    {
     "data": {
      "text/plain": [
       "True"
      ]
     },
     "execution_count": 35,
     "metadata": {},
     "output_type": "execute_result"
    }
   ],
   "source": [
    "from matplotlib import pyplot as plt\n",
    "import matplotlib.gridspec as gridspec\n",
    "import pandas as pd\n",
    "import numpy as np\n",
    "import logging,os\n",
    "import sys\n",
    "sys.path.append('../')\n",
    "from helper import defaultPars\n",
    "\n",
    "FORMAT = '%(levelname)s: %(message)s at %(asctime)s'\n",
    "logging.basicConfig(format=FORMAT,datefmt='%m/%d/%Y %I:%M:%S %p')\n",
    "logger = logging.getLogger()\n",
    "\n",
    "plt.rcParams.update(defaultPars)\n",
    "\n",
    "delphesDir = os.path.abspath(\"../DelphesLLP\")\n",
    "os.environ['ROOT_INCLUDE_PATH'] = os.path.join(delphesDir,\"external\")\n",
    "\n",
    "import ROOT\n",
    "ROOT.gSystem.Load(os.path.join(delphesDir,\"libDelphes.so\"))\n",
    "\n",
    "ROOT.gInterpreter.Declare('#include \"classes/SortableObject.h\"')\n",
    "ROOT.gInterpreter.Declare('#include \"classes/DelphesClasses.h\"')\n",
    "ROOT.gInterpreter.Declare('#include \"external/ExRootAnalysis/ExRootTreeReader.h\"')"
   ]
  },
  {
   "cell_type": "code",
   "execution_count": 36,
   "id": "9d56ba7d",
   "metadata": {},
   "outputs": [
    {
     "name": "stdout",
     "output_type": "stream",
     "text": [
      "Reading ../pp2chi0chi0J_2_nosmear_scan/Events/run_01/ddmH_mS_500_m2_250_m1_244_dm_90_ctau_3.0_delphes_events.root\n",
      "\n",
      "$c\\tau = 3$ m:\n",
      "Number of N-1 decays = 0.905\n",
      "Number of N decays = 0.00594\n",
      "Number of decays between N-1 and N = 0.090\n",
      "Total = 1.000\n",
      "\n",
      "Reading ../pp2chi0chi0J_2_nosmear_scan/Events/run_02/ddmH_mS_500_m2_250_m1_244_dm_90_ctau_27.0_delphes_events.root\n",
      "\n",
      "$c\\tau = 27$ m:\n",
      "Number of N-1 decays = 0.286\n",
      "Number of N decays = 0.10710\n",
      "Number of decays between N-1 and N = 0.607\n",
      "Total = 1.000\n",
      "\n",
      "Reading ../pp2chi0chi0J_2_nosmear_scan/Events/run_03/ddmH_mS_500_m2_250_m1_244_dm_90_ctau_108.0_delphes_events.root\n",
      "\n",
      "$c\\tau = 108$ m:\n",
      "Number of N-1 decays = 0.091\n",
      "Number of N decays = 0.06534\n",
      "Number of decays between N-1 and N = 0.844\n",
      "Total = 1.000\n",
      "\n",
      "Reading ../pp2chi0chi0J_2_nosmear_scan/Events/run_04/ddmH_mS_500_m2_250_m1_244_dm_90_ctau_432.0_delphes_events.root\n",
      "\n",
      "$c\\tau = 432$ m:\n",
      "Number of N-1 decays = 0.021\n",
      "Number of N decays = 0.02075\n",
      "Number of decays between N-1 and N = 0.958\n",
      "Total = 1.000\n",
      "\n"
     ]
    }
   ],
   "source": [
    "files = {\n",
    "         r'$c\\tau = 3$ m' : '../pp2chi0chi0J_2_nosmear_scan/Events/run_01/ddmH_mS_500_m2_250_m1_244_dm_90_ctau_3.0_delphes_events.root',\n",
    "         r'$c\\tau = 27$ m' : '../pp2chi0chi0J_2_nosmear_scan/Events/run_02/ddmH_mS_500_m2_250_m1_244_dm_90_ctau_27.0_delphes_events.root',\n",
    "         r'$c\\tau = 108$ m' : '../pp2chi0chi0J_2_nosmear_scan/Events/run_03/ddmH_mS_500_m2_250_m1_244_dm_90_ctau_108.0_delphes_events.root',\n",
    "         r'$c\\tau = 432$ m' : '../pp2chi0chi0J_2_nosmear_scan/Events/run_04/ddmH_mS_500_m2_250_m1_244_dm_90_ctau_432.0_delphes_events.root'\n",
    "        }\n",
    "\n",
    "c_light = 2.99792458e8\n",
    "tDecays = {}\n",
    "for label,file in files.items():\n",
    "    f = ROOT.TFile(file,'read')\n",
    "    tree = f.Get(\"Delphes\")\n",
    "    nevts = tree.GetEntries()\n",
    "    print(f\"Reading {file}\\n\")\n",
    "    nN = 0\n",
    "    nNm1 = 0\n",
    "    nInt = 0\n",
    "    tDecays[label] = []\n",
    "    nLLPs = []\n",
    "    for ievt in range(nevts):\n",
    "        tree.GetEntry(ievt)\n",
    "\n",
    "        # Get parton level MET and b-bar angular separation\n",
    "        llps = list(tree.llpParticles)\n",
    "        nLLPs.append(len(llps))\n",
    "        t_readout = -1.0\n",
    "        for illp,llp in enumerate(llps):            \n",
    "            for d in tree.llpDirectDaughters:\n",
    "                if illp == d.M1:\n",
    "                    x = np.array([d.X,d.Y,d.Z,d.T])\n",
    "                    l = np.linalg.norm(x[:3])*1e-3\n",
    "                    t_readout = x[-1]-l/c_light\n",
    "                    t_readout = t_readout*1e9\n",
    "                    break\n",
    "\n",
    "            tDecays[label].append(t_readout)\n",
    "            if t_readout < 10:\n",
    "                nNm1 += 1\n",
    "            elif 25 < t_readout < 35:\n",
    "                nN += 1\n",
    "            else:\n",
    "                nInt += 1\n",
    "        if len(llps) != 1:\n",
    "            print(f'{len(llps)} LLPs found!')\n",
    "            for llp in llps:\n",
    "                print(llp.PID)\n",
    "            break\n",
    "\n",
    "    f.Close()\n",
    "    print(f'{label}:')\n",
    "    print(f'Number of N-1 decays = {nNm1/nevts:1.3f}')\n",
    "    print(f'Number of N decays = {nN/nevts:1.5f}')\n",
    "    print(f'Number of decays between N-1 and N = {nInt/nevts:1.3f}')\n",
    "    print(f'Total = {(nNm1+nN+nInt)/nevts:1.3f}\\n')"
   ]
  },
  {
   "cell_type": "code",
   "execution_count": null,
   "id": "66fcfd71",
   "metadata": {},
   "outputs": [
    {
     "data": {
      "image/png": "[encoded data removed]",
      "text/plain": [
       "<Figure size 500x400 with 1 Axes>"
      ]
     },
     "metadata": {},
     "output_type": "display_data"
    }
   ],
   "source": [
    "for label,tDecay in tDecays.items():\n",
    "    plt.hist(tDecay,bins=np.linspace(0.,50.,6),histtype='step',\n",
    "             weights=[1.0/len(tDecay)]*len(tDecay),label=label,linewidth=2)\n",
    "plt.yscale('log')\n",
    "plt.xlabel(r'$t_{\\rm readout}$ (ns)')\n",
    "plt.ylabel('Fraction of Events')\n",
    "# plt.vlines(x=[10.,25.,35.],ymin=1e-5,ymax=1,linestyles='dashed',colors='red')\n",
    "plt.fill_betweenx(y=[1e-5,1],x1=10,x2=25,color='gray',alpha=0.7)\n",
    "plt.fill_betweenx(y=[1e-5,1],x1=35,x2=50,color='gray',alpha=0.7)\n",
    "plt.xlim(0.,50)\n",
    "plt.ylim(1e-4,1)\n",
    "plt.legend(framealpha=1.0)\n",
    "plt.show()"
   ]
  },
  {
   "cell_type": "code",
   "execution_count": null,
   "id": "6f8f0468",
   "metadata": {},
   "outputs": [],
   "source": []
  }
 ],
 "metadata": {
  "kernelspec": {
   "display_name": "Python 3",
   "language": "python",
   "name": "python3"
  },
  "language_info": {
   "codemirror_mode": {
    "name": "ipython",
    "version": 3
   },
   "file_extension": ".py",
   "mimetype": "text/x-python",
   "name": "python",
   "nbconvert_exporter": "python",
   "pygments_lexer": "ipython3",
   "version": "3.12.3"
  }
 },
 "nbformat": 4,
 "nbformat_minor": 5
}
