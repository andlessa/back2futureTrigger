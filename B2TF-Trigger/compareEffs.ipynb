{
 "cells": [
  {
   "cell_type": "code",
   "execution_count": 45,
   "metadata": {},
   "outputs": [],
   "source": [
    "#!/usr/bin/env python3\n",
    "import numpy as np\n",
    "from matplotlib import pyplot as plt\n",
    "import pandas as pd"
   ]
  },
  {
   "cell_type": "markdown",
   "metadata": {},
   "source": [
    "### Get the two sets of effs"
   ]
  },
  {
   "cell_type": "code",
   "execution_count": 125,
   "metadata": {},
   "outputs": [],
   "source": [
    "b2tf_effs_A = np.genfromtxt('./b2tf_trigger_effs_jets_v2.csv',delimiter=',',names=True)\n",
    "b2tf_effs_B = np.genfromtxt('./b2tf_trigger_effs_jets_v3.csv',delimiter=',',names=True)\n",
    "b2tf_df_A = pd.DataFrame(b2tf_effs_A,columns=b2tf_effs_A.dtype.names)\n",
    "b2tf_df_B = pd.DataFrame(b2tf_effs_B,columns=b2tf_effs_B.dtype.names)\n",
    "for df in [b2tf_df_A,b2tf_df_B]:\n",
    "    df['dm'] = df['m1']-df['m0']\n",
    "    df.sort_values(by = ['ctau', 'm1', 'm0', 'ms'], axis=0, inplace=True,ignore_index=True)"
   ]
  },
  {
   "cell_type": "markdown",
   "metadata": {},
   "source": [
    "### Compute difference of efficiencies"
   ]
  },
  {
   "cell_type": "code",
   "execution_count": 128,
   "metadata": {},
   "outputs": [],
   "source": [
    "b2tf_df_A['eff_diff'] = np.abs(b2tf_df_A['eff']-b2tf_df_B['eff'])\n",
    "b2tf_df_A['eff_rel_diff'] = (np.abs(b2tf_df_A['eff']-b2tf_df_B['eff'])/np.sqrt(b2tf_df_A['efferror']**2 + b2tf_df_B['efferror']**2)).fillna(0.0)"
   ]
  },
  {
   "cell_type": "code",
   "execution_count": 129,
   "metadata": {},
   "outputs": [
    {
     "data": {
      "image/png": "[encoded data removed]",
      "text/plain": [
       "<Figure size 640x480 with 1 Axes>"
      ]
     },
     "metadata": {},
     "output_type": "display_data"
    }
   ],
   "source": [
    "plt.hist(b2tf_df_A['eff_rel_diff'].to_numpy(),bins=20)\n",
    "plt.yscale('log')\n",
    "plt.show()"
   ]
  }
 ],
 "metadata": {
  "kernelspec": {
   "display_name": "Python 3",
   "language": "python",
   "name": "python3"
  },
  "language_info": {
   "codemirror_mode": {
    "name": "ipython",
    "version": 3
   },
   "file_extension": ".py",
   "mimetype": "text/x-python",
   "name": "python",
   "nbconvert_exporter": "python",
   "pygments_lexer": "ipython3",
   "version": "3.12.3"
  }
 },
 "nbformat": 4,
 "nbformat_minor": 2
}
