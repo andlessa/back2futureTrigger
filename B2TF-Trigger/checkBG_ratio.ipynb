{
 "cells": [
  {
   "cell_type": "code",
   "execution_count": 3,
   "id": "9233aa0c",
   "metadata": {},
   "outputs": [],
   "source": [
    "import numpy as np"
   ]
  },
  {
   "cell_type": "code",
   "execution_count": 34,
   "id": "ad6c7f29",
   "metadata": {},
   "outputs": [],
   "source": [
    "f = './HEPData-ins1796953-v1-Figure_1b_Zero_bias_data.csv'\n",
    "data = np.genfromtxt(f,delimiter=',',skip_header=6,names=True)"
   ]
  },
  {
   "cell_type": "code",
   "execution_count": 36,
   "id": "9c4cfefd",
   "metadata": {},
   "outputs": [
    {
     "data": {
      "text/plain": [
       "np.float64(0.9999972726099999)"
      ]
     },
     "execution_count": 36,
     "metadata": {},
     "output_type": "execute_result"
    }
   ],
   "source": [
    "sum(data['Fraction_of_Events__GeV'])"
   ]
  },
  {
   "cell_type": "code",
   "execution_count": 37,
   "id": "3a371c5b",
   "metadata": {},
   "outputs": [],
   "source": [
    "y = data['Fraction_of_Events__GeV']\n",
    "x = data['Cell_Algorithm_E_Tmiss_GeV']"
   ]
  },
  {
   "cell_type": "code",
   "execution_count": 41,
   "id": "30285843",
   "metadata": {},
   "outputs": [
    {
     "name": "stdout",
     "output_type": "stream",
     "text": [
      "0.02939347261 0.9999972726099999 0.029393552777681912 0.009356258439201173\n"
     ]
    }
   ],
   "source": [
    "b2tf = sum(y[(x > 40.) & (x < 100.)])\n",
    "cr = sum(y[(x < 100.)])\n",
    "print(b2tf,cr,b2tf/cr,b2tf/(np.pi*cr))"
   ]
  },
  {
   "cell_type": "code",
   "execution_count": 46,
   "id": "16059f17",
   "metadata": {},
   "outputs": [
    {
     "name": "stdout",
     "output_type": "stream",
     "text": [
      "0.0020575430827000003 0.3 0.006858476942333334 0.0021831210149082765\n"
     ]
    }
   ],
   "source": [
    "pt40 = 0.07\n",
    "pt30 = 0.15\n",
    "b2tf = sum(y[(x > 40.) & (x < 100.)])*pt40\n",
    "cr = 2*pt30\n",
    "print(b2tf,cr,b2tf/cr,b2tf/(np.pi*cr))"
   ]
  },
  {
   "cell_type": "code",
   "execution_count": 47,
   "id": "6d70db2f",
   "metadata": {},
   "outputs": [
    {
     "data": {
      "text/plain": [
       "4.285714285714286"
      ]
     },
     "execution_count": 47,
     "metadata": {},
     "output_type": "execute_result"
    }
   ],
   "source": [
    "0.009/0.0021"
   ]
  },
  {
   "cell_type": "code",
   "execution_count": null,
   "id": "789d0d11",
   "metadata": {},
   "outputs": [],
   "source": []
  }
 ],
 "metadata": {
  "kernelspec": {
   "display_name": "Python 3",
   "language": "python",
   "name": "python3"
  },
  "language_info": {
   "codemirror_mode": {
    "name": "ipython",
    "version": 3
   },
   "file_extension": ".py",
   "mimetype": "text/x-python",
   "name": "python",
   "nbconvert_exporter": "python",
   "pygments_lexer": "ipython3",
   "version": "3.12.3"
  }
 },
 "nbformat": 4,
 "nbformat_minor": 5
}
