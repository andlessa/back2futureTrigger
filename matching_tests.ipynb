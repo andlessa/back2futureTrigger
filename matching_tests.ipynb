{
 "cells": [
  {
   "cell_type": "code",
   "execution_count": 16,
   "metadata": {},
   "outputs": [],
   "source": [
    "from matplotlib import pyplot as plt\n",
    "import numpy as np\n",
    "import pandas as pd\n",
    "import uproot\n",
    "import itertools"
   ]
  },
  {
   "cell_type": "code",
   "execution_count": 17,
   "metadata": {},
   "outputs": [],
   "source": [
    "defaultPars = {'figure.figsize': (5, 4),\n",
    "               'lines.markersize' : 4,\n",
    "               'axes.titlesize' : 13,\n",
    "               'font.size' : 13,\n",
    "               'axes.labelsize' : 16,\n",
    "               'xtick.labelsize' : 13,\n",
    "               'ytick.labelsize' : 13,\n",
    "               'legend.fontsize' : 10,\n",
    "               \"text.usetex\": True,\n",
    "               \"font.family\": \"sans-serif\",\n",
    "               \"font.sans-serif\": [\"Helvetica\"],\n",
    "               'font.family':'Times New Roman', \n",
    "               'font.serif':'Times New Roman',\n",
    "               \"savefig.dpi\" : 300,\n",
    "               'contour.linewidth' : 2.0,\n",
    "               'lines.linewidth' : 2.0,\n",
    "               'axes.grid' : True,\n",
    "               'grid.linewidth' : 0.5,\n",
    "               'grid.color' : 'lightgray',\n",
    "               'axes.axisbelow' : True\n",
    "               }\n",
    "plt.rcParams.update(defaultPars)"
   ]
  },
  {
   "cell_type": "code",
   "execution_count": 18,
   "metadata": {},
   "outputs": [],
   "source": [
    "file = './pp2chi0chi0J_test/Events/run_02/ddmH_mS_250_m1_122_dm_90_delphes_events.root'\n",
    "f = uproot.open(file)\n",
    "events = f.get('Delphes')\n",
    "# llps= f.arrays(filter_name=\"llpParticles*\")"
   ]
  },
  {
   "cell_type": "code",
   "execution_count": 19,
   "metadata": {},
   "outputs": [],
   "source": [
    "Px = events['llpParticles/llpParticles.Px'].array().to_numpy()\n",
    "Py = events['llpParticles/llpParticles.Py'].array().to_numpy()\n",
    "Pz = events['llpParticles/llpParticles.Pz'].array().to_numpy()\n",
    "E = events['llpParticles/llpParticles.E'].array().to_numpy()"
   ]
  },
  {
   "cell_type": "code",
   "execution_count": 20,
   "metadata": {},
   "outputs": [],
   "source": [
    "PxMom = events['llpMothers/llpMothers.Px'].array().to_numpy()[:,0]\n",
    "PyMom = events['llpMothers/llpMothers.Py'].array().to_numpy()[:,0]\n",
    "PzMom = events['llpMothers/llpMothers.Pz'].array().to_numpy()[:,0]\n",
    "EMom = events['llpMothers/llpMothers.E'].array().to_numpy()[:,0]"
   ]
  },
  {
   "cell_type": "code",
   "execution_count": 21,
   "metadata": {},
   "outputs": [],
   "source": [
    "PxTot = np.sum(Px,axis=1)\n",
    "PyTot = np.sum(Py,axis=1)\n",
    "PzTot = np.sum(Pz,axis=1)\n",
    "ETot = np.sum(E,axis=1)"
   ]
  },
  {
   "cell_type": "code",
   "execution_count": 22,
   "metadata": {},
   "outputs": [],
   "source": [
    "PTtot = np.sqrt(PxTot**2 + PyTot**2)\n",
    "Mtot = np.sqrt(ETot**2 - PxTot**2 - PyTot**2 - PzTot**2)\n",
    "\n",
    "MtotMom = np.sqrt(EMom**2 - PxMom**2 - PyMom**2 - PzMom**2)"
   ]
  },
  {
   "cell_type": "code",
   "execution_count": 23,
   "metadata": {},
   "outputs": [],
   "source": [
    "# for ievt,m in enumerate(MtotMom):\n",
    "#     M = Mtot[ievt]\n",
    "#     if m < 200.0:\n",
    "#         continue\n",
    "#     if abs(M-m)/m > 0.1:\n",
    "#         print('Differ=',M,m,ievt)\n",
    "#         break\n",
    "# print(PxMom[ievt],PyMom[ievt],PzMom[ievt],EMom[ievt])\n",
    "# print(PxTot[ievt],PyTot[ievt],PzTot[ievt],ETot[ievt])\n",
    "# print(Mtot[ievt],MtotMom[ievt])"
   ]
  },
  {
   "cell_type": "code",
   "execution_count": 24,
   "metadata": {},
   "outputs": [],
   "source": [
    "# r = Mtot/MtotMom\n",
    "# ievt = np.argwhere(r > 10.0)[0,0]\n",
    "# print(ievt)\n",
    "# print(PxMom[ievt],PyMom[ievt],PzMom[ievt],EMom[ievt])\n",
    "# print(PxTot[ievt],PyTot[ievt],PzTot[ievt],ETot[ievt])\n",
    "# print(Mtot[ievt],MtotMom[ievt])"
   ]
  },
  {
   "cell_type": "code",
   "execution_count": 25,
   "metadata": {},
   "outputs": [
    {
     "data": {
      "image/png": "[encoded data removed]",
      "text/plain": [
       "<Figure size 500x400 with 1 Axes>"
      ]
     },
     "metadata": {},
     "output_type": "display_data"
    }
   ],
   "source": [
    "plt.hist(Mtot,bins=50,histtype='step',density=True)\n",
    "plt.hist(MtotMom,bins=50,histtype='step',density=True)\n",
    "plt.yscale('log')\n",
    "# plt.xlim(200,300)\n",
    "plt.ylim(1e-5,1)\n",
    "plt.show()"
   ]
  },
  {
   "cell_type": "code",
   "execution_count": 26,
   "metadata": {},
   "outputs": [
    {
     "data": {
      "text/plain": [
       "0.0003303600925008259"
      ]
     },
     "execution_count": 26,
     "metadata": {},
     "output_type": "execute_result"
    }
   ],
   "source": [
    "len(Mtot[Mtot > 500.])/len(Mtot)"
   ]
  },
  {
   "cell_type": "code",
   "execution_count": 27,
   "metadata": {},
   "outputs": [],
   "source": [
    "file = './pp2Sd/Events/run_01/ddmH_mS_500_m1_244_dm_90_delphes_events.root'\n",
    "f = uproot.open(file)\n",
    "events = f.get('Delphes')\n",
    "# llps= f.arrays(filter_name=\"llpParticles*\")"
   ]
  },
  {
   "cell_type": "code",
   "execution_count": 28,
   "metadata": {},
   "outputs": [],
   "source": [
    "files = {\n",
    "         'with matching' : './pp2SdJ/Events/run_01/ddmH_mS_500_m1_244_dm_90_delphes_events.root',\n",
    "         'without matching' : './pp2Sd/Events/run_01/ddmH_mS_500_m1_244_dm_90_delphes_events.root',\n",
    "         }\n",
    "\n",
    "pT = {}\n",
    "eta = {}\n",
    "dR = {}\n",
    "cols = ['label',r'$p_T(S)$ (GeV)']\n",
    "\n",
    "nmax = -1\n",
    "dataList = []\n",
    "for label,f in files.items():    \n",
    "    ievt = 0\n",
    "    file = uproot.open(f)\n",
    "    events = file.get('Delphes')\n",
    "    sdPT = events['llpParticles/llpParticles.PT'].array()\n",
    "    sdPT = sdPT.to_numpy().flatten()\n",
    "\n",
    "    dataList += list(zip(itertools.repeat(label,len(sdPT)),sdPT))\n",
    "    \n",
    "df = pd.DataFrame(columns=cols,data=dataList)\n",
    "        "
   ]
  },
  {
   "cell_type": "code",
   "execution_count": 29,
   "metadata": {},
   "outputs": [
    {
     "name": "stderr",
     "output_type": "stream",
     "text": [
      "/tmp/ipykernel_17471/1805150701.py:40: RuntimeWarning: divide by zero encountered in divide\n",
      "  r_y = np.divide(y,y0)\n",
      "/tmp/ipykernel_17471/1805150701.py:40: RuntimeWarning: invalid value encountered in divide\n",
      "  r_y = np.divide(y,y0)\n",
      "/tmp/ipykernel_17471/1805150701.py:41: RuntimeWarning: invalid value encountered in divide\n",
      "  r_error = r_y*np.sqrt((yerr/y)**2 + (y0Err/y0)**2)\n"
     ]
    },
    {
     "data": {
      "image/png": "[encoded data removed]",
      "text/plain": [
       "<Figure size 700x700 with 2 Axes>"
      ]
     },
     "metadata": {},
     "output_type": "display_data"
    }
   ],
   "source": [
    "plot_variable = r'$p_T(S)$ (GeV)'\n",
    "\n",
    "\n",
    "ncols = 1\n",
    "\n",
    "fig, axarr = plt.subplots(2,sharex=True, gridspec_kw = {'height_ratios':[2, 1]},figsize=(7,7))\n",
    "plt.subplots_adjust(left=0.12, bottom=0.12, right=0.97, top=None, wspace=None, hspace=0.1)\n",
    "\n",
    "\n",
    "i = 0\n",
    "var = plot_variable\n",
    "\n",
    "v_max, v_min = df[var].max(),df[var].min()\n",
    "bins = np.linspace(v_min,v_max,25)\n",
    "bin_centers = 0.5*(bins[1:] + bins[:-1])\n",
    "ax = axarr[i]\n",
    "ymax = 0.0\n",
    "yList = []\n",
    "yErrList = []\n",
    "for j,label in enumerate(df['label'].unique()):\n",
    "    if 'with matching' in label:\n",
    "        ls = 'solid'\n",
    "    else:\n",
    "        ls = 'dashed'\n",
    "    data = df[df['label'] == label]\n",
    "    y,_ = np.histogram(data[var], bins=bins)\n",
    "    yerr = np.sqrt(y)\n",
    "    norm = sum(y)\n",
    "    y = y/norm\n",
    "    ymax = max(ymax,y.max())\n",
    "    yerr = yerr/norm\n",
    "    p = ax.errorbar(bin_centers,y,yerr = yerr,marker = '.',drawstyle = 'steps-mid',\n",
    "                label=label,linewidth=2,linestyle=ls)\n",
    "    \n",
    "    if j == 0:\n",
    "        y0 = y\n",
    "        y0Err = yerr\n",
    "        continue\n",
    "    \n",
    "    r_y = np.divide(y,y0)\n",
    "    r_error = r_y*np.sqrt((yerr/y)**2 + (y0Err/y0)**2)\n",
    "    axarr[1].errorbar(bin_centers,r_y,yerr = r_error,marker = '.',drawstyle = 'steps-mid',\n",
    "                label=label,linewidth=2,linestyle=ls,color=p[0].get_color())\n",
    "\n",
    "\n",
    "\n",
    "ax.set_ylabel('Normalized Events')\n",
    "if i == 0:\n",
    "    ax.legend()\n",
    "# ax.set_ylim(0.0,1.1*ymax)\n",
    "ax.set_yscale('log')\n",
    "\n",
    "# for y,yErr in zip(yList[1:],yErrList[1:]):\n",
    "#     r_y = np.divide(y,yList[0])\n",
    "#     r_error = r_y*np.sqrt((y/yErr)**2 + (yList[0]/yErrList[0])**2)\n",
    "#     ax.errorbar(bin_centers,r_y,yerr = r_error,marker = '.',drawstyle = 'steps-mid',\n",
    "#                 label=label,linewidth=2,linestyle=ls)\n",
    "#     axarr[1].hist(bin_centers,weights=,histtype='step',linewidth=3,bins=bins)\n",
    "axarr[1].set_ylim(0.5,1.5)\n",
    "axarr[1].set_xlabel(var)\n",
    "\n",
    "fig.suptitle(\"Distributions in the lab frame\")\n",
    "plt.tight_layout()\n",
    "# plt.savefig('spin_dists.png')\n",
    "plt.show()"
   ]
  },
  {
   "cell_type": "code",
   "execution_count": null,
   "metadata": {},
   "outputs": [],
   "source": []
  }
 ],
 "metadata": {
  "kernelspec": {
   "display_name": "Python 3",
   "language": "python",
   "name": "python3"
  },
  "language_info": {
   "codemirror_mode": {
    "name": "ipython",
    "version": 3
   },
   "file_extension": ".py",
   "mimetype": "text/x-python",
   "name": "python",
   "nbconvert_exporter": "python",
   "pygments_lexer": "ipython3",
   "version": "3.12.3"
  }
 },
 "nbformat": 4,
 "nbformat_minor": 2
}
